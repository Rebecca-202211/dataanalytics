{
  "nbformat": 4,
  "nbformat_minor": 0,
  "metadata": {
    "colab": {
      "provenance": [],
      "authorship_tag": "ABX9TyPznP2oEHllzQ/LZ2GbZKZc",
      "include_colab_link": true
    },
    "kernelspec": {
      "name": "python3",
      "display_name": "Python 3"
    },
    "language_info": {
      "name": "python"
    }
  },
  "cells": [
    {
      "cell_type": "markdown",
      "metadata": {
        "id": "view-in-github",
        "colab_type": "text"
      },
      "source": [
        "<a href=\"https://colab.research.google.com/github/Rebecca-202211/dataanalytics/blob/main/ab_test_conversion_rate.ipynb\" target=\"_parent\"><img src=\"https://colab.research.google.com/assets/colab-badge.svg\" alt=\"Open In Colab\"/></a>"
      ]
    },
    {
      "cell_type": "code",
      "execution_count": 10,
      "metadata": {
        "id": "l4Lsn68VllrY"
      },
      "outputs": [],
      "source": [
        "import numpy as np\n",
        "import pandas as pd\n",
        "import scipy.stats as stats\n",
        "import statsmodels.stats.api as sms\n",
        "import matplotlib as mpl\n",
        "import matplotlib.pyplot as plt\n",
        "import seaborn as sns\n",
        "from math import ceil"
      ]
    },
    {
      "cell_type": "code",
      "source": [
        "%matplotlib inline"
      ],
      "metadata": {
        "id": "WXWN7XHInegN"
      },
      "execution_count": 11,
      "outputs": []
    },
    {
      "cell_type": "code",
      "source": [
        "sns.set(style = 'whitegrid')\n",
        "font = {'family': 'Helvetica',\n",
        "        'weight': 'bold',\n",
        "        'size': 14}\n",
        "mpl.rc('font', **font)"
      ],
      "metadata": {
        "id": "v5fI3hAToVoU"
      },
      "execution_count": 12,
      "outputs": []
    },
    {
      "cell_type": "code",
      "source": [
        "# raise conversion rate from 0.13 to 0.15\n",
        "# to know the number of the data that is needed(per group: control/ experimental)\n",
        "effect_size = sms.proportion_effectsize(0.13,0.15)\n",
        "required_n = sms.NormalIndPower().solve_power(\n",
        "    effect_size,\n",
        "    power = 0.8,\n",
        "    alpha = 0.05,\n",
        "    ratio = 1\n",
        ")\n",
        "required_n = ceil(required_n)"
      ],
      "metadata": {
        "id": "x-5Fx5UVpWB0"
      },
      "execution_count": 13,
      "outputs": []
    },
    {
      "cell_type": "code",
      "source": [
        "print(required_n)"
      ],
      "metadata": {
        "colab": {
          "base_uri": "https://localhost:8080/"
        },
        "id": "nKm2DAlNuk_p",
        "outputId": "9c73af10-e871-4f6d-dcc4-18a8293f0854"
      },
      "execution_count": 14,
      "outputs": [
        {
          "output_type": "stream",
          "name": "stdout",
          "text": [
            "4720\n"
          ]
        }
      ]
    },
    {
      "cell_type": "code",
      "source": [
        "df = pd.read_csv('/content/ab_data.csv')\n",
        "df.head()"
      ],
      "metadata": {
        "colab": {
          "base_uri": "https://localhost:8080/",
          "height": 206
        },
        "id": "ECBfJ5qeu0GR",
        "outputId": "5c32096c-79f6-4c71-ef1d-a006037b12bf"
      },
      "execution_count": 24,
      "outputs": [
        {
          "output_type": "execute_result",
          "data": {
            "text/plain": [
              "   user_id                   timestamp      group landing_page  converted\n",
              "0   851104  2017-01-21 22:11:48.556739    control     old_page          0\n",
              "1   804228  2017-01-12 08:01:45.159739    control     old_page          0\n",
              "2   661590  2017-01-11 16:55:06.154213  treatment     new_page          0\n",
              "3   853541  2017-01-08 18:28:03.143765  treatment     new_page          0\n",
              "4   864975  2017-01-21 01:52:26.210827    control     old_page          1"
            ],
            "text/html": [
              "\n",
              "  <div id=\"df-5f08ab83-fec3-4a2c-b910-ef782e50c365\">\n",
              "    <div class=\"colab-df-container\">\n",
              "      <div>\n",
              "<style scoped>\n",
              "    .dataframe tbody tr th:only-of-type {\n",
              "        vertical-align: middle;\n",
              "    }\n",
              "\n",
              "    .dataframe tbody tr th {\n",
              "        vertical-align: top;\n",
              "    }\n",
              "\n",
              "    .dataframe thead th {\n",
              "        text-align: right;\n",
              "    }\n",
              "</style>\n",
              "<table border=\"1\" class=\"dataframe\">\n",
              "  <thead>\n",
              "    <tr style=\"text-align: right;\">\n",
              "      <th></th>\n",
              "      <th>user_id</th>\n",
              "      <th>timestamp</th>\n",
              "      <th>group</th>\n",
              "      <th>landing_page</th>\n",
              "      <th>converted</th>\n",
              "    </tr>\n",
              "  </thead>\n",
              "  <tbody>\n",
              "    <tr>\n",
              "      <th>0</th>\n",
              "      <td>851104</td>\n",
              "      <td>2017-01-21 22:11:48.556739</td>\n",
              "      <td>control</td>\n",
              "      <td>old_page</td>\n",
              "      <td>0</td>\n",
              "    </tr>\n",
              "    <tr>\n",
              "      <th>1</th>\n",
              "      <td>804228</td>\n",
              "      <td>2017-01-12 08:01:45.159739</td>\n",
              "      <td>control</td>\n",
              "      <td>old_page</td>\n",
              "      <td>0</td>\n",
              "    </tr>\n",
              "    <tr>\n",
              "      <th>2</th>\n",
              "      <td>661590</td>\n",
              "      <td>2017-01-11 16:55:06.154213</td>\n",
              "      <td>treatment</td>\n",
              "      <td>new_page</td>\n",
              "      <td>0</td>\n",
              "    </tr>\n",
              "    <tr>\n",
              "      <th>3</th>\n",
              "      <td>853541</td>\n",
              "      <td>2017-01-08 18:28:03.143765</td>\n",
              "      <td>treatment</td>\n",
              "      <td>new_page</td>\n",
              "      <td>0</td>\n",
              "    </tr>\n",
              "    <tr>\n",
              "      <th>4</th>\n",
              "      <td>864975</td>\n",
              "      <td>2017-01-21 01:52:26.210827</td>\n",
              "      <td>control</td>\n",
              "      <td>old_page</td>\n",
              "      <td>1</td>\n",
              "    </tr>\n",
              "  </tbody>\n",
              "</table>\n",
              "</div>\n",
              "      <button class=\"colab-df-convert\" onclick=\"convertToInteractive('df-5f08ab83-fec3-4a2c-b910-ef782e50c365')\"\n",
              "              title=\"Convert this dataframe to an interactive table.\"\n",
              "              style=\"display:none;\">\n",
              "        \n",
              "  <svg xmlns=\"http://www.w3.org/2000/svg\" height=\"24px\"viewBox=\"0 0 24 24\"\n",
              "       width=\"24px\">\n",
              "    <path d=\"M0 0h24v24H0V0z\" fill=\"none\"/>\n",
              "    <path d=\"M18.56 5.44l.94 2.06.94-2.06 2.06-.94-2.06-.94-.94-2.06-.94 2.06-2.06.94zm-11 1L8.5 8.5l.94-2.06 2.06-.94-2.06-.94L8.5 2.5l-.94 2.06-2.06.94zm10 10l.94 2.06.94-2.06 2.06-.94-2.06-.94-.94-2.06-.94 2.06-2.06.94z\"/><path d=\"M17.41 7.96l-1.37-1.37c-.4-.4-.92-.59-1.43-.59-.52 0-1.04.2-1.43.59L10.3 9.45l-7.72 7.72c-.78.78-.78 2.05 0 2.83L4 21.41c.39.39.9.59 1.41.59.51 0 1.02-.2 1.41-.59l7.78-7.78 2.81-2.81c.8-.78.8-2.07 0-2.86zM5.41 20L4 18.59l7.72-7.72 1.47 1.35L5.41 20z\"/>\n",
              "  </svg>\n",
              "      </button>\n",
              "      \n",
              "  <style>\n",
              "    .colab-df-container {\n",
              "      display:flex;\n",
              "      flex-wrap:wrap;\n",
              "      gap: 12px;\n",
              "    }\n",
              "\n",
              "    .colab-df-convert {\n",
              "      background-color: #E8F0FE;\n",
              "      border: none;\n",
              "      border-radius: 50%;\n",
              "      cursor: pointer;\n",
              "      display: none;\n",
              "      fill: #1967D2;\n",
              "      height: 32px;\n",
              "      padding: 0 0 0 0;\n",
              "      width: 32px;\n",
              "    }\n",
              "\n",
              "    .colab-df-convert:hover {\n",
              "      background-color: #E2EBFA;\n",
              "      box-shadow: 0px 1px 2px rgba(60, 64, 67, 0.3), 0px 1px 3px 1px rgba(60, 64, 67, 0.15);\n",
              "      fill: #174EA6;\n",
              "    }\n",
              "\n",
              "    [theme=dark] .colab-df-convert {\n",
              "      background-color: #3B4455;\n",
              "      fill: #D2E3FC;\n",
              "    }\n",
              "\n",
              "    [theme=dark] .colab-df-convert:hover {\n",
              "      background-color: #434B5C;\n",
              "      box-shadow: 0px 1px 3px 1px rgba(0, 0, 0, 0.15);\n",
              "      filter: drop-shadow(0px 1px 2px rgba(0, 0, 0, 0.3));\n",
              "      fill: #FFFFFF;\n",
              "    }\n",
              "  </style>\n",
              "\n",
              "      <script>\n",
              "        const buttonEl =\n",
              "          document.querySelector('#df-5f08ab83-fec3-4a2c-b910-ef782e50c365 button.colab-df-convert');\n",
              "        buttonEl.style.display =\n",
              "          google.colab.kernel.accessAllowed ? 'block' : 'none';\n",
              "\n",
              "        async function convertToInteractive(key) {\n",
              "          const element = document.querySelector('#df-5f08ab83-fec3-4a2c-b910-ef782e50c365');\n",
              "          const dataTable =\n",
              "            await google.colab.kernel.invokeFunction('convertToInteractive',\n",
              "                                                     [key], {});\n",
              "          if (!dataTable) return;\n",
              "\n",
              "          const docLinkHtml = 'Like what you see? Visit the ' +\n",
              "            '<a target=\"_blank\" href=https://colab.research.google.com/notebooks/data_table.ipynb>data table notebook</a>'\n",
              "            + ' to learn more about interactive tables.';\n",
              "          element.innerHTML = '';\n",
              "          dataTable['output_type'] = 'display_data';\n",
              "          await google.colab.output.renderOutput(dataTable, element);\n",
              "          const docLink = document.createElement('div');\n",
              "          docLink.innerHTML = docLinkHtml;\n",
              "          element.appendChild(docLink);\n",
              "        }\n",
              "      </script>\n",
              "    </div>\n",
              "  </div>\n",
              "  "
            ]
          },
          "metadata": {},
          "execution_count": 24
        }
      ]
    },
    {
      "cell_type": "code",
      "source": [
        "df.info()"
      ],
      "metadata": {
        "colab": {
          "base_uri": "https://localhost:8080/"
        },
        "id": "JZTpsU4VvoUd",
        "outputId": "35601886-049d-4915-9a2f-c422ccef783d"
      },
      "execution_count": 25,
      "outputs": [
        {
          "output_type": "stream",
          "name": "stdout",
          "text": [
            "<class 'pandas.core.frame.DataFrame'>\n",
            "RangeIndex: 294478 entries, 0 to 294477\n",
            "Data columns (total 5 columns):\n",
            " #   Column        Non-Null Count   Dtype \n",
            "---  ------        --------------   ----- \n",
            " 0   user_id       294478 non-null  int64 \n",
            " 1   timestamp     294478 non-null  object\n",
            " 2   group         294478 non-null  object\n",
            " 3   landing_page  294478 non-null  object\n",
            " 4   converted     294478 non-null  int64 \n",
            "dtypes: int64(2), object(3)\n",
            "memory usage: 11.2+ MB\n"
          ]
        }
      ]
    },
    {
      "cell_type": "code",
      "source": [
        "pd.crosstab(df['group'], df['landing_page'])"
      ],
      "metadata": {
        "colab": {
          "base_uri": "https://localhost:8080/",
          "height": 143
        },
        "id": "fMWOXwb4vuzu",
        "outputId": "080da34a-47bd-4723-f0b8-690bfe202d4b"
      },
      "execution_count": 26,
      "outputs": [
        {
          "output_type": "execute_result",
          "data": {
            "text/plain": [
              "landing_page  new_page  old_page\n",
              "group                           \n",
              "control           1928    145274\n",
              "treatment       145311      1965"
            ],
            "text/html": [
              "\n",
              "  <div id=\"df-d23f6b1f-57fd-4054-80a9-e6f5bb27281c\">\n",
              "    <div class=\"colab-df-container\">\n",
              "      <div>\n",
              "<style scoped>\n",
              "    .dataframe tbody tr th:only-of-type {\n",
              "        vertical-align: middle;\n",
              "    }\n",
              "\n",
              "    .dataframe tbody tr th {\n",
              "        vertical-align: top;\n",
              "    }\n",
              "\n",
              "    .dataframe thead th {\n",
              "        text-align: right;\n",
              "    }\n",
              "</style>\n",
              "<table border=\"1\" class=\"dataframe\">\n",
              "  <thead>\n",
              "    <tr style=\"text-align: right;\">\n",
              "      <th>landing_page</th>\n",
              "      <th>new_page</th>\n",
              "      <th>old_page</th>\n",
              "    </tr>\n",
              "    <tr>\n",
              "      <th>group</th>\n",
              "      <th></th>\n",
              "      <th></th>\n",
              "    </tr>\n",
              "  </thead>\n",
              "  <tbody>\n",
              "    <tr>\n",
              "      <th>control</th>\n",
              "      <td>1928</td>\n",
              "      <td>145274</td>\n",
              "    </tr>\n",
              "    <tr>\n",
              "      <th>treatment</th>\n",
              "      <td>145311</td>\n",
              "      <td>1965</td>\n",
              "    </tr>\n",
              "  </tbody>\n",
              "</table>\n",
              "</div>\n",
              "      <button class=\"colab-df-convert\" onclick=\"convertToInteractive('df-d23f6b1f-57fd-4054-80a9-e6f5bb27281c')\"\n",
              "              title=\"Convert this dataframe to an interactive table.\"\n",
              "              style=\"display:none;\">\n",
              "        \n",
              "  <svg xmlns=\"http://www.w3.org/2000/svg\" height=\"24px\"viewBox=\"0 0 24 24\"\n",
              "       width=\"24px\">\n",
              "    <path d=\"M0 0h24v24H0V0z\" fill=\"none\"/>\n",
              "    <path d=\"M18.56 5.44l.94 2.06.94-2.06 2.06-.94-2.06-.94-.94-2.06-.94 2.06-2.06.94zm-11 1L8.5 8.5l.94-2.06 2.06-.94-2.06-.94L8.5 2.5l-.94 2.06-2.06.94zm10 10l.94 2.06.94-2.06 2.06-.94-2.06-.94-.94-2.06-.94 2.06-2.06.94z\"/><path d=\"M17.41 7.96l-1.37-1.37c-.4-.4-.92-.59-1.43-.59-.52 0-1.04.2-1.43.59L10.3 9.45l-7.72 7.72c-.78.78-.78 2.05 0 2.83L4 21.41c.39.39.9.59 1.41.59.51 0 1.02-.2 1.41-.59l7.78-7.78 2.81-2.81c.8-.78.8-2.07 0-2.86zM5.41 20L4 18.59l7.72-7.72 1.47 1.35L5.41 20z\"/>\n",
              "  </svg>\n",
              "      </button>\n",
              "      \n",
              "  <style>\n",
              "    .colab-df-container {\n",
              "      display:flex;\n",
              "      flex-wrap:wrap;\n",
              "      gap: 12px;\n",
              "    }\n",
              "\n",
              "    .colab-df-convert {\n",
              "      background-color: #E8F0FE;\n",
              "      border: none;\n",
              "      border-radius: 50%;\n",
              "      cursor: pointer;\n",
              "      display: none;\n",
              "      fill: #1967D2;\n",
              "      height: 32px;\n",
              "      padding: 0 0 0 0;\n",
              "      width: 32px;\n",
              "    }\n",
              "\n",
              "    .colab-df-convert:hover {\n",
              "      background-color: #E2EBFA;\n",
              "      box-shadow: 0px 1px 2px rgba(60, 64, 67, 0.3), 0px 1px 3px 1px rgba(60, 64, 67, 0.15);\n",
              "      fill: #174EA6;\n",
              "    }\n",
              "\n",
              "    [theme=dark] .colab-df-convert {\n",
              "      background-color: #3B4455;\n",
              "      fill: #D2E3FC;\n",
              "    }\n",
              "\n",
              "    [theme=dark] .colab-df-convert:hover {\n",
              "      background-color: #434B5C;\n",
              "      box-shadow: 0px 1px 3px 1px rgba(0, 0, 0, 0.15);\n",
              "      filter: drop-shadow(0px 1px 2px rgba(0, 0, 0, 0.3));\n",
              "      fill: #FFFFFF;\n",
              "    }\n",
              "  </style>\n",
              "\n",
              "      <script>\n",
              "        const buttonEl =\n",
              "          document.querySelector('#df-d23f6b1f-57fd-4054-80a9-e6f5bb27281c button.colab-df-convert');\n",
              "        buttonEl.style.display =\n",
              "          google.colab.kernel.accessAllowed ? 'block' : 'none';\n",
              "\n",
              "        async function convertToInteractive(key) {\n",
              "          const element = document.querySelector('#df-d23f6b1f-57fd-4054-80a9-e6f5bb27281c');\n",
              "          const dataTable =\n",
              "            await google.colab.kernel.invokeFunction('convertToInteractive',\n",
              "                                                     [key], {});\n",
              "          if (!dataTable) return;\n",
              "\n",
              "          const docLinkHtml = 'Like what you see? Visit the ' +\n",
              "            '<a target=\"_blank\" href=https://colab.research.google.com/notebooks/data_table.ipynb>data table notebook</a>'\n",
              "            + ' to learn more about interactive tables.';\n",
              "          element.innerHTML = '';\n",
              "          dataTable['output_type'] = 'display_data';\n",
              "          await google.colab.output.renderOutput(dataTable, element);\n",
              "          const docLink = document.createElement('div');\n",
              "          docLink.innerHTML = docLinkHtml;\n",
              "          element.appendChild(docLink);\n",
              "        }\n",
              "      </script>\n",
              "    </div>\n",
              "  </div>\n",
              "  "
            ]
          },
          "metadata": {},
          "execution_count": 26
        }
      ]
    },
    {
      "cell_type": "markdown",
      "source": [
        "There is an overlab between the control group and the treatment group.\n",
        "Extract the control group with old page and the treatment group with new page."
      ],
      "metadata": {
        "id": "b9VX9iwnv4KT"
      }
    },
    {
      "cell_type": "code",
      "source": [
        "# detect overlab accounts\n",
        "session_counts = df['user_id'].value_counts(ascending = False)\n",
        "multi_users = session_counts[session_counts > 1].count()\n",
        "print(f'There are {multi_users} users that appear multiple times in the dataset')"
      ],
      "metadata": {
        "colab": {
          "base_uri": "https://localhost:8080/"
        },
        "id": "jYJgEb3EwTrF",
        "outputId": "e9589c36-6cb3-4938-be10-5549738be3ae"
      },
      "execution_count": 27,
      "outputs": [
        {
          "output_type": "stream",
          "name": "stdout",
          "text": [
            "There are 3894 users that appear multiple times in the dataset\n"
          ]
        }
      ]
    },
    {
      "cell_type": "code",
      "source": [
        "users_to_drop = session_counts[session_counts > 1].index\n",
        "df = df[~df['user_id'].isin(users_to_drop)]\n",
        "print(f'The updated dataset now has {df.shape[0]} entries')"
      ],
      "metadata": {
        "colab": {
          "base_uri": "https://localhost:8080/"
        },
        "id": "1aWB66rHxW_c",
        "outputId": "54e903f8-94d1-4983-8b8c-787d981a57e8"
      },
      "execution_count": 31,
      "outputs": [
        {
          "output_type": "stream",
          "name": "stdout",
          "text": [
            "The updated dataset now has 286690 entries\n"
          ]
        }
      ]
    },
    {
      "cell_type": "code",
      "source": [
        "# set the control group and the experimental group\n",
        "control_sample = df[df['group'] == 'control'].sample(n = required_n,random_state = 22)\n",
        "treatment_sample = df[df['group'] == 'treatment'].sample(n = required_n, random_state = 22)\n",
        "\n",
        "ab_test = pd.concat([control_sample, treatment_sample], axis = 0)"
      ],
      "metadata": {
        "id": "HM03PMR6w980"
      },
      "execution_count": 34,
      "outputs": []
    },
    {
      "cell_type": "code",
      "source": [
        "ab_test.reset_index(drop = True, inplace = True)\n",
        "ab_test"
      ],
      "metadata": {
        "colab": {
          "base_uri": "https://localhost:8080/",
          "height": 423
        },
        "id": "K4qrnUEaanjm",
        "outputId": "b5e20be4-98e2-4183-ca78-aea2a088bf97"
      },
      "execution_count": 36,
      "outputs": [
        {
          "output_type": "execute_result",
          "data": {
            "text/plain": [
              "      user_id                   timestamp      group landing_page  converted\n",
              "0      763854  2017-01-21 03:43:17.188315    control     old_page          0\n",
              "1      690555  2017-01-18 06:38:13.079449    control     old_page          0\n",
              "2      861520  2017-01-06 21:13:40.044766    control     old_page          0\n",
              "3      630778  2017-01-05 16:42:36.995204    control     old_page          0\n",
              "4      656634  2017-01-04 15:31:21.676130    control     old_page          0\n",
              "...       ...                         ...        ...          ...        ...\n",
              "9435   908512  2017-01-14 22:02:29.922674  treatment     new_page          0\n",
              "9436   873211  2017-01-05 00:57:16.167151  treatment     new_page          0\n",
              "9437   631276  2017-01-20 18:56:58.167809  treatment     new_page          0\n",
              "9438   662301  2017-01-03 08:10:57.768806  treatment     new_page          0\n",
              "9439   944623  2017-01-19 10:56:01.648653  treatment     new_page          1\n",
              "\n",
              "[9440 rows x 5 columns]"
            ],
            "text/html": [
              "\n",
              "  <div id=\"df-a9795e70-3836-4c22-beaf-a42a167ce71d\">\n",
              "    <div class=\"colab-df-container\">\n",
              "      <div>\n",
              "<style scoped>\n",
              "    .dataframe tbody tr th:only-of-type {\n",
              "        vertical-align: middle;\n",
              "    }\n",
              "\n",
              "    .dataframe tbody tr th {\n",
              "        vertical-align: top;\n",
              "    }\n",
              "\n",
              "    .dataframe thead th {\n",
              "        text-align: right;\n",
              "    }\n",
              "</style>\n",
              "<table border=\"1\" class=\"dataframe\">\n",
              "  <thead>\n",
              "    <tr style=\"text-align: right;\">\n",
              "      <th></th>\n",
              "      <th>user_id</th>\n",
              "      <th>timestamp</th>\n",
              "      <th>group</th>\n",
              "      <th>landing_page</th>\n",
              "      <th>converted</th>\n",
              "    </tr>\n",
              "  </thead>\n",
              "  <tbody>\n",
              "    <tr>\n",
              "      <th>0</th>\n",
              "      <td>763854</td>\n",
              "      <td>2017-01-21 03:43:17.188315</td>\n",
              "      <td>control</td>\n",
              "      <td>old_page</td>\n",
              "      <td>0</td>\n",
              "    </tr>\n",
              "    <tr>\n",
              "      <th>1</th>\n",
              "      <td>690555</td>\n",
              "      <td>2017-01-18 06:38:13.079449</td>\n",
              "      <td>control</td>\n",
              "      <td>old_page</td>\n",
              "      <td>0</td>\n",
              "    </tr>\n",
              "    <tr>\n",
              "      <th>2</th>\n",
              "      <td>861520</td>\n",
              "      <td>2017-01-06 21:13:40.044766</td>\n",
              "      <td>control</td>\n",
              "      <td>old_page</td>\n",
              "      <td>0</td>\n",
              "    </tr>\n",
              "    <tr>\n",
              "      <th>3</th>\n",
              "      <td>630778</td>\n",
              "      <td>2017-01-05 16:42:36.995204</td>\n",
              "      <td>control</td>\n",
              "      <td>old_page</td>\n",
              "      <td>0</td>\n",
              "    </tr>\n",
              "    <tr>\n",
              "      <th>4</th>\n",
              "      <td>656634</td>\n",
              "      <td>2017-01-04 15:31:21.676130</td>\n",
              "      <td>control</td>\n",
              "      <td>old_page</td>\n",
              "      <td>0</td>\n",
              "    </tr>\n",
              "    <tr>\n",
              "      <th>...</th>\n",
              "      <td>...</td>\n",
              "      <td>...</td>\n",
              "      <td>...</td>\n",
              "      <td>...</td>\n",
              "      <td>...</td>\n",
              "    </tr>\n",
              "    <tr>\n",
              "      <th>9435</th>\n",
              "      <td>908512</td>\n",
              "      <td>2017-01-14 22:02:29.922674</td>\n",
              "      <td>treatment</td>\n",
              "      <td>new_page</td>\n",
              "      <td>0</td>\n",
              "    </tr>\n",
              "    <tr>\n",
              "      <th>9436</th>\n",
              "      <td>873211</td>\n",
              "      <td>2017-01-05 00:57:16.167151</td>\n",
              "      <td>treatment</td>\n",
              "      <td>new_page</td>\n",
              "      <td>0</td>\n",
              "    </tr>\n",
              "    <tr>\n",
              "      <th>9437</th>\n",
              "      <td>631276</td>\n",
              "      <td>2017-01-20 18:56:58.167809</td>\n",
              "      <td>treatment</td>\n",
              "      <td>new_page</td>\n",
              "      <td>0</td>\n",
              "    </tr>\n",
              "    <tr>\n",
              "      <th>9438</th>\n",
              "      <td>662301</td>\n",
              "      <td>2017-01-03 08:10:57.768806</td>\n",
              "      <td>treatment</td>\n",
              "      <td>new_page</td>\n",
              "      <td>0</td>\n",
              "    </tr>\n",
              "    <tr>\n",
              "      <th>9439</th>\n",
              "      <td>944623</td>\n",
              "      <td>2017-01-19 10:56:01.648653</td>\n",
              "      <td>treatment</td>\n",
              "      <td>new_page</td>\n",
              "      <td>1</td>\n",
              "    </tr>\n",
              "  </tbody>\n",
              "</table>\n",
              "<p>9440 rows × 5 columns</p>\n",
              "</div>\n",
              "      <button class=\"colab-df-convert\" onclick=\"convertToInteractive('df-a9795e70-3836-4c22-beaf-a42a167ce71d')\"\n",
              "              title=\"Convert this dataframe to an interactive table.\"\n",
              "              style=\"display:none;\">\n",
              "        \n",
              "  <svg xmlns=\"http://www.w3.org/2000/svg\" height=\"24px\"viewBox=\"0 0 24 24\"\n",
              "       width=\"24px\">\n",
              "    <path d=\"M0 0h24v24H0V0z\" fill=\"none\"/>\n",
              "    <path d=\"M18.56 5.44l.94 2.06.94-2.06 2.06-.94-2.06-.94-.94-2.06-.94 2.06-2.06.94zm-11 1L8.5 8.5l.94-2.06 2.06-.94-2.06-.94L8.5 2.5l-.94 2.06-2.06.94zm10 10l.94 2.06.94-2.06 2.06-.94-2.06-.94-.94-2.06-.94 2.06-2.06.94z\"/><path d=\"M17.41 7.96l-1.37-1.37c-.4-.4-.92-.59-1.43-.59-.52 0-1.04.2-1.43.59L10.3 9.45l-7.72 7.72c-.78.78-.78 2.05 0 2.83L4 21.41c.39.39.9.59 1.41.59.51 0 1.02-.2 1.41-.59l7.78-7.78 2.81-2.81c.8-.78.8-2.07 0-2.86zM5.41 20L4 18.59l7.72-7.72 1.47 1.35L5.41 20z\"/>\n",
              "  </svg>\n",
              "      </button>\n",
              "      \n",
              "  <style>\n",
              "    .colab-df-container {\n",
              "      display:flex;\n",
              "      flex-wrap:wrap;\n",
              "      gap: 12px;\n",
              "    }\n",
              "\n",
              "    .colab-df-convert {\n",
              "      background-color: #E8F0FE;\n",
              "      border: none;\n",
              "      border-radius: 50%;\n",
              "      cursor: pointer;\n",
              "      display: none;\n",
              "      fill: #1967D2;\n",
              "      height: 32px;\n",
              "      padding: 0 0 0 0;\n",
              "      width: 32px;\n",
              "    }\n",
              "\n",
              "    .colab-df-convert:hover {\n",
              "      background-color: #E2EBFA;\n",
              "      box-shadow: 0px 1px 2px rgba(60, 64, 67, 0.3), 0px 1px 3px 1px rgba(60, 64, 67, 0.15);\n",
              "      fill: #174EA6;\n",
              "    }\n",
              "\n",
              "    [theme=dark] .colab-df-convert {\n",
              "      background-color: #3B4455;\n",
              "      fill: #D2E3FC;\n",
              "    }\n",
              "\n",
              "    [theme=dark] .colab-df-convert:hover {\n",
              "      background-color: #434B5C;\n",
              "      box-shadow: 0px 1px 3px 1px rgba(0, 0, 0, 0.15);\n",
              "      filter: drop-shadow(0px 1px 2px rgba(0, 0, 0, 0.3));\n",
              "      fill: #FFFFFF;\n",
              "    }\n",
              "  </style>\n",
              "\n",
              "      <script>\n",
              "        const buttonEl =\n",
              "          document.querySelector('#df-a9795e70-3836-4c22-beaf-a42a167ce71d button.colab-df-convert');\n",
              "        buttonEl.style.display =\n",
              "          google.colab.kernel.accessAllowed ? 'block' : 'none';\n",
              "\n",
              "        async function convertToInteractive(key) {\n",
              "          const element = document.querySelector('#df-a9795e70-3836-4c22-beaf-a42a167ce71d');\n",
              "          const dataTable =\n",
              "            await google.colab.kernel.invokeFunction('convertToInteractive',\n",
              "                                                     [key], {});\n",
              "          if (!dataTable) return;\n",
              "\n",
              "          const docLinkHtml = 'Like what you see? Visit the ' +\n",
              "            '<a target=\"_blank\" href=https://colab.research.google.com/notebooks/data_table.ipynb>data table notebook</a>'\n",
              "            + ' to learn more about interactive tables.';\n",
              "          element.innerHTML = '';\n",
              "          dataTable['output_type'] = 'display_data';\n",
              "          await google.colab.output.renderOutput(dataTable, element);\n",
              "          const docLink = document.createElement('div');\n",
              "          docLink.innerHTML = docLinkHtml;\n",
              "          element.appendChild(docLink);\n",
              "        }\n",
              "      </script>\n",
              "    </div>\n",
              "  </div>\n",
              "  "
            ]
          },
          "metadata": {},
          "execution_count": 36
        }
      ]
    },
    {
      "cell_type": "code",
      "source": [
        "ab_test.info()"
      ],
      "metadata": {
        "colab": {
          "base_uri": "https://localhost:8080/"
        },
        "id": "Nh-Oi1JZa5zG",
        "outputId": "46fcd90a-b8e6-4d3d-fcc1-2492c4b7bf83"
      },
      "execution_count": 37,
      "outputs": [
        {
          "output_type": "stream",
          "name": "stdout",
          "text": [
            "<class 'pandas.core.frame.DataFrame'>\n",
            "RangeIndex: 9440 entries, 0 to 9439\n",
            "Data columns (total 5 columns):\n",
            " #   Column        Non-Null Count  Dtype \n",
            "---  ------        --------------  ----- \n",
            " 0   user_id       9440 non-null   int64 \n",
            " 1   timestamp     9440 non-null   object\n",
            " 2   group         9440 non-null   object\n",
            " 3   landing_page  9440 non-null   object\n",
            " 4   converted     9440 non-null   int64 \n",
            "dtypes: int64(2), object(3)\n",
            "memory usage: 368.9+ KB\n"
          ]
        }
      ]
    },
    {
      "cell_type": "code",
      "source": [
        "# confirm the number of each groups\n",
        "ab_test['group'].value_counts()"
      ],
      "metadata": {
        "colab": {
          "base_uri": "https://localhost:8080/"
        },
        "id": "w14reE50a9L9",
        "outputId": "dc76dfe6-fdf9-4b0d-f2df-1a1bd2aea2cd"
      },
      "execution_count": 39,
      "outputs": [
        {
          "output_type": "execute_result",
          "data": {
            "text/plain": [
              "control      4720\n",
              "treatment    4720\n",
              "Name: group, dtype: int64"
            ]
          },
          "metadata": {},
          "execution_count": 39
        }
      ]
    },
    {
      "cell_type": "code",
      "source": [
        "conversion_rates = ab_test.groupby('group')['converted']\n",
        "std_p = lambda x: np.std(x)\n",
        "se_p = lambda x: stats.sem(x)\n",
        "\n",
        "conversion_rates = conversion_rates.agg([np.mean, std_p, se_p])\n",
        "conversion_rates.columns = ['conversion_rate', 'std_deviation', 'std_error']\n",
        "conversion_rates.style.format('{:.3f}')"
      ],
      "metadata": {
        "colab": {
          "base_uri": "https://localhost:8080/",
          "height": 143
        },
        "id": "dHAIdfPsbjKv",
        "outputId": "e33b06fb-f458-4076-ed00-3dbce9a8b9a5"
      },
      "execution_count": 41,
      "outputs": [
        {
          "output_type": "execute_result",
          "data": {
            "text/plain": [
              "<pandas.io.formats.style.Styler at 0x7f8530142170>"
            ],
            "text/html": [
              "<style type=\"text/css\">\n",
              "</style>\n",
              "<table id=\"T_78962\" class=\"dataframe\">\n",
              "  <thead>\n",
              "    <tr>\n",
              "      <th class=\"blank level0\" >&nbsp;</th>\n",
              "      <th id=\"T_78962_level0_col0\" class=\"col_heading level0 col0\" >conversion_rate</th>\n",
              "      <th id=\"T_78962_level0_col1\" class=\"col_heading level0 col1\" >std_deviation</th>\n",
              "      <th id=\"T_78962_level0_col2\" class=\"col_heading level0 col2\" >std_error</th>\n",
              "    </tr>\n",
              "    <tr>\n",
              "      <th class=\"index_name level0\" >group</th>\n",
              "      <th class=\"blank col0\" >&nbsp;</th>\n",
              "      <th class=\"blank col1\" >&nbsp;</th>\n",
              "      <th class=\"blank col2\" >&nbsp;</th>\n",
              "    </tr>\n",
              "  </thead>\n",
              "  <tbody>\n",
              "    <tr>\n",
              "      <th id=\"T_78962_level0_row0\" class=\"row_heading level0 row0\" >control</th>\n",
              "      <td id=\"T_78962_row0_col0\" class=\"data row0 col0\" >0.123</td>\n",
              "      <td id=\"T_78962_row0_col1\" class=\"data row0 col1\" >0.329</td>\n",
              "      <td id=\"T_78962_row0_col2\" class=\"data row0 col2\" >0.005</td>\n",
              "    </tr>\n",
              "    <tr>\n",
              "      <th id=\"T_78962_level0_row1\" class=\"row_heading level0 row1\" >treatment</th>\n",
              "      <td id=\"T_78962_row1_col0\" class=\"data row1 col0\" >0.126</td>\n",
              "      <td id=\"T_78962_row1_col1\" class=\"data row1 col1\" >0.331</td>\n",
              "      <td id=\"T_78962_row1_col2\" class=\"data row1 col2\" >0.005</td>\n",
              "    </tr>\n",
              "  </tbody>\n",
              "</table>\n"
            ]
          },
          "metadata": {},
          "execution_count": 41
        }
      ]
    },
    {
      "cell_type": "code",
      "source": [
        "plt.figure(figsize = (8,6))\n",
        "sns.barplot(x = ab_test['group'], y = ab_test['converted'], ci = False)\n",
        "plt.ylim(0, 0.17)\n",
        "plt.title('Conversion rate by group', pad = 20)\n",
        "plt.xlabel('Group', labelpad = 15)\n",
        "plt.ylabel('Converted (proportion)', labelpad = 15)"
      ],
      "metadata": {
        "colab": {
          "base_uri": "https://localhost:8080/",
          "height": 1000
        },
        "id": "PWBpyK68eAfz",
        "outputId": "9289d03a-3dd3-4df4-c40f-87169e8fcc9c"
      },
      "execution_count": 45,
      "outputs": [
        {
          "output_type": "stream",
          "name": "stderr",
          "text": [
            "<ipython-input-45-24eec70a0e90>:2: FutureWarning: \n",
            "\n",
            "The `ci` parameter is deprecated. Use `errorbar=('ci', False)` for the same effect.\n",
            "\n",
            "  sns.barplot(x = ab_test['group'], y = ab_test['converted'], ci = False)\n"
          ]
        },
        {
          "output_type": "execute_result",
          "data": {
            "text/plain": [
              "Text(0, 0.5, 'Converted (proportion)')"
            ]
          },
          "metadata": {},
          "execution_count": 45
        },
        {
          "output_type": "stream",
          "name": "stderr",
          "text": [
            "WARNING:matplotlib.font_manager:findfont: Font family 'Helvetica' not found.\n",
            "WARNING:matplotlib.font_manager:findfont: Font family 'Helvetica' not found.\n",
            "WARNING:matplotlib.font_manager:findfont: Font family 'Helvetica' not found.\n",
            "WARNING:matplotlib.font_manager:findfont: Font family 'Helvetica' not found.\n",
            "WARNING:matplotlib.font_manager:findfont: Font family 'Helvetica' not found.\n",
            "WARNING:matplotlib.font_manager:findfont: Font family 'Helvetica' not found.\n",
            "WARNING:matplotlib.font_manager:findfont: Font family 'Helvetica' not found.\n",
            "WARNING:matplotlib.font_manager:findfont: Font family 'Helvetica' not found.\n",
            "WARNING:matplotlib.font_manager:findfont: Font family 'Helvetica' not found.\n",
            "WARNING:matplotlib.font_manager:findfont: Font family 'Helvetica' not found.\n",
            "WARNING:matplotlib.font_manager:findfont: Font family 'Helvetica' not found.\n",
            "WARNING:matplotlib.font_manager:findfont: Font family 'Helvetica' not found.\n",
            "WARNING:matplotlib.font_manager:findfont: Font family 'Helvetica' not found.\n",
            "WARNING:matplotlib.font_manager:findfont: Font family 'Helvetica' not found.\n",
            "WARNING:matplotlib.font_manager:findfont: Font family 'Helvetica' not found.\n",
            "WARNING:matplotlib.font_manager:findfont: Font family 'Helvetica' not found.\n",
            "WARNING:matplotlib.font_manager:findfont: Font family 'Helvetica' not found.\n",
            "WARNING:matplotlib.font_manager:findfont: Font family 'Helvetica' not found.\n",
            "WARNING:matplotlib.font_manager:findfont: Font family 'Helvetica' not found.\n",
            "WARNING:matplotlib.font_manager:findfont: Font family 'Helvetica' not found.\n",
            "WARNING:matplotlib.font_manager:findfont: Font family 'Helvetica' not found.\n",
            "WARNING:matplotlib.font_manager:findfont: Font family 'Helvetica' not found.\n",
            "WARNING:matplotlib.font_manager:findfont: Font family 'Helvetica' not found.\n",
            "WARNING:matplotlib.font_manager:findfont: Font family 'Helvetica' not found.\n",
            "WARNING:matplotlib.font_manager:findfont: Font family 'Helvetica' not found.\n",
            "WARNING:matplotlib.font_manager:findfont: Font family 'Helvetica' not found.\n",
            "WARNING:matplotlib.font_manager:findfont: Font family 'Helvetica' not found.\n",
            "WARNING:matplotlib.font_manager:findfont: Font family 'Helvetica' not found.\n",
            "WARNING:matplotlib.font_manager:findfont: Font family 'Helvetica' not found.\n",
            "WARNING:matplotlib.font_manager:findfont: Font family 'Helvetica' not found.\n",
            "WARNING:matplotlib.font_manager:findfont: Font family 'Helvetica' not found.\n",
            "WARNING:matplotlib.font_manager:findfont: Font family 'Helvetica' not found.\n",
            "WARNING:matplotlib.font_manager:findfont: Font family 'Helvetica' not found.\n",
            "WARNING:matplotlib.font_manager:findfont: Font family 'Helvetica' not found.\n",
            "WARNING:matplotlib.font_manager:findfont: Font family 'Helvetica' not found.\n",
            "WARNING:matplotlib.font_manager:findfont: Font family 'Helvetica' not found.\n",
            "WARNING:matplotlib.font_manager:findfont: Font family 'Helvetica' not found.\n",
            "WARNING:matplotlib.font_manager:findfont: Font family 'Helvetica' not found.\n",
            "WARNING:matplotlib.font_manager:findfont: Font family 'Helvetica' not found.\n",
            "WARNING:matplotlib.font_manager:findfont: Font family 'Helvetica' not found.\n",
            "WARNING:matplotlib.font_manager:findfont: Font family 'Helvetica' not found.\n",
            "WARNING:matplotlib.font_manager:findfont: Font family 'Helvetica' not found.\n",
            "WARNING:matplotlib.font_manager:findfont: Font family 'Helvetica' not found.\n",
            "WARNING:matplotlib.font_manager:findfont: Font family 'Helvetica' not found.\n",
            "WARNING:matplotlib.font_manager:findfont: Font family 'Helvetica' not found.\n",
            "WARNING:matplotlib.font_manager:findfont: Font family 'Helvetica' not found.\n",
            "WARNING:matplotlib.font_manager:findfont: Font family 'Helvetica' not found.\n",
            "WARNING:matplotlib.font_manager:findfont: Font family 'Helvetica' not found.\n",
            "WARNING:matplotlib.font_manager:findfont: Font family 'Helvetica' not found.\n",
            "WARNING:matplotlib.font_manager:findfont: Font family 'Helvetica' not found.\n",
            "WARNING:matplotlib.font_manager:findfont: Font family 'Helvetica' not found.\n",
            "WARNING:matplotlib.font_manager:findfont: Font family 'Helvetica' not found.\n",
            "WARNING:matplotlib.font_manager:findfont: Font family 'Helvetica' not found.\n",
            "WARNING:matplotlib.font_manager:findfont: Font family 'Helvetica' not found.\n",
            "WARNING:matplotlib.font_manager:findfont: Font family 'Helvetica' not found.\n",
            "WARNING:matplotlib.font_manager:findfont: Font family 'Helvetica' not found.\n",
            "WARNING:matplotlib.font_manager:findfont: Font family 'Helvetica' not found.\n",
            "WARNING:matplotlib.font_manager:findfont: Font family 'Helvetica' not found.\n",
            "WARNING:matplotlib.font_manager:findfont: Font family 'Helvetica' not found.\n",
            "WARNING:matplotlib.font_manager:findfont: Font family 'Helvetica' not found.\n"
          ]
        },
        {
          "output_type": "display_data",
          "data": {
            "text/plain": [
              "<Figure size 800x600 with 1 Axes>"
            ],
            "image/png": "[encoded data removed]"
          },
          "metadata": {}
        }
      ]
    },
    {
      "cell_type": "code",
      "source": [
        "from statsmodels.stats.proportion import proportions_ztest, proportion_confint\n",
        "\n",
        "control_results = ab_test[ab_test['group'] == 'control']['converted']\n",
        "treatment_results = ab_test[ab_test['group'] == 'treatment']['converted']\n",
        "\n",
        "n_con = control_results.count()\n",
        "n_treat = treatment_results.count()\n",
        "successes = [control_results.sum(), treatment_results.sum()]\n",
        "nobs = [n_con, n_treat]\n",
        "z_stat, pval = proportions_ztest(successes, nobs= nobs)"
      ],
      "metadata": {
        "id": "PoI10eOJfUuh"
      },
      "execution_count": 52,
      "outputs": []
    },
    {
      "cell_type": "code",
      "source": [
        "(lower_con, lower_treat), (upper_con, upper_treat) = proportion_confint(successes, nobs=nobs, alpha=0.05)\n",
        "print(f'z statistic: {z_stat:.2f}')\n",
        "print(f'p-value: {pval:.3f}')\n",
        "print(f'ci 95% for control group: [{lower_con:.3f}, {upper_con:.3f}]')\n",
        "print(f'ci 95% for treatment group: [{lower_treat:.3f}, {upper_treat:.3f}]')\n"
      ],
      "metadata": {
        "colab": {
          "base_uri": "https://localhost:8080/"
        },
        "id": "pOdnP1vRlUeW",
        "outputId": "6c99c72d-6e7f-40cb-f799-8011ca4564a7"
      },
      "execution_count": 53,
      "outputs": [
        {
          "output_type": "stream",
          "name": "stdout",
          "text": [
            "z statistic: -0.34\n",
            "p-value: 0.732\n",
            "ci 95% for control group: [0.114, 0.133]\n",
            "ci 95% for treatment group: [0.116, 0.135]\n"
          ]
        }
      ]
    }
  ]
}