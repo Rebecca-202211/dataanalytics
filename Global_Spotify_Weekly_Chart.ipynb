{
  "nbformat": 4,
  "nbformat_minor": 0,
  "metadata": {
    "colab": {
      "provenance": [],
      "authorship_tag": "ABX9TyM4ThuGJ3uZsSeE0UwTtZCA",
      "include_colab_link": true
    },
    "kernelspec": {
      "name": "python3",
      "display_name": "Python 3"
    },
    "language_info": {
      "name": "python"
    }
  },
  "cells": [
    {
      "cell_type": "markdown",
      "metadata": {
        "id": "view-in-github",
        "colab_type": "text"
      },
      "source": [
        "<a href=\"https://colab.research.google.com/github/Rebecca-202211/dataanalytics/blob/main/Global_Spotify_Weekly_Chart.ipynb\" target=\"_parent\"><img src=\"https://colab.research.google.com/assets/colab-badge.svg\" alt=\"Open In Colab\"/></a>"
      ]
    },
    {
      "cell_type": "code",
      "execution_count": null,
      "metadata": {
        "id": "yhD4fretxHa1"
      },
      "outputs": [],
      "source": [
        "# Download kaggle data in Google Colab\n",
        "! pip install -q kaggle\n",
        "from google.colab import files\n",
        "files.upload()"
      ]
    },
    {
      "cell_type": "code",
      "source": [
        "! mkdir ~/.kaggle\n",
        "! cp kaggle.json ~/.kaggle/\n",
        "! chmod 600 ~/.kaggle/kaggle.json"
      ],
      "metadata": {
        "id": "1KqLVzAhyM95"
      },
      "execution_count": null,
      "outputs": []
    },
    {
      "cell_type": "code",
      "source": [
        "!kaggle datasets download -d kabhishm/global-spotify-weekly-chart"
      ],
      "metadata": {
        "id": "DMi0y0yPyU9h"
      },
      "execution_count": null,
      "outputs": []
    },
    {
      "cell_type": "code",
      "source": [
        "! mkdir global-spotify-weekly-chart"
      ],
      "metadata": {
        "id": "7RNnZwAsybR6"
      },
      "execution_count": null,
      "outputs": []
    },
    {
      "cell_type": "code",
      "source": [
        "! unzip global-spotify-weekly-chart.zip -d global-spotify-weekly-chart"
      ],
      "metadata": {
        "id": "cmo7bl4QykGQ"
      },
      "execution_count": null,
      "outputs": []
    },
    {
      "cell_type": "code",
      "source": [
        "import pandas as pd\n",
        "import numpy as np\n",
        "spotify_chart = pd.read_csv('/content/global-spotify-weekly-chart/spotify_weekly_chart.csv')\n",
        "spotify_chart.head(5)"
      ],
      "metadata": {
        "colab": {
          "base_uri": "https://localhost:8080/",
          "height": 206
        },
        "id": "XP9OQMr4yrex",
        "outputId": "24662563-4949-4eb8-d3c8-cad4e7c5a3c6"
      },
      "execution_count": null,
      "outputs": [
        {
          "output_type": "execute_result",
          "data": {
            "text/plain": [
              "   Pos   P+           Artist               Title  Wks  Pk  (x?)   Streams  \\\n",
              "0    1    =     Miley Cyrus              Flowers    7   1   7.0  56744018   \n",
              "1    2  NEW         KAROL G                  TQG    1   2   1.0  53284451   \n",
              "2    3  NEW      The Weeknd          Die For You    1   3   1.0  46213370   \n",
              "3    4   -2             SZA            Kill Bill   12   1   2.0  45630547   \n",
              "4    5   -2  PinkPantheress   Boy's a liar Pt. 2    4   3   1.0  39475419   \n",
              "\n",
              "    Streams+      Total  \n",
              "0 -5019054.0  585390148  \n",
              "1        NaN   53284451  \n",
              "2        NaN   46213370  \n",
              "3  -918530.0  556085332  \n",
              "4   303113.0  123300074  "
            ],
            "text/html": [
              "\n",
              "  <div id=\"df-7c03cccc-2f7c-4123-b73b-872cc7dd1dbe\">\n",
              "    <div class=\"colab-df-container\">\n",
              "      <div>\n",
              "<style scoped>\n",
              "    .dataframe tbody tr th:only-of-type {\n",
              "        vertical-align: middle;\n",
              "    }\n",
              "\n",
              "    .dataframe tbody tr th {\n",
              "        vertical-align: top;\n",
              "    }\n",
              "\n",
              "    .dataframe thead th {\n",
              "        text-align: right;\n",
              "    }\n",
              "</style>\n",
              "<table border=\"1\" class=\"dataframe\">\n",
              "  <thead>\n",
              "    <tr style=\"text-align: right;\">\n",
              "      <th></th>\n",
              "      <th>Pos</th>\n",
              "      <th>P+</th>\n",
              "      <th>Artist</th>\n",
              "      <th>Title</th>\n",
              "      <th>Wks</th>\n",
              "      <th>Pk</th>\n",
              "      <th>(x?)</th>\n",
              "      <th>Streams</th>\n",
              "      <th>Streams+</th>\n",
              "      <th>Total</th>\n",
              "    </tr>\n",
              "  </thead>\n",
              "  <tbody>\n",
              "    <tr>\n",
              "      <th>0</th>\n",
              "      <td>1</td>\n",
              "      <td>=</td>\n",
              "      <td>Miley Cyrus</td>\n",
              "      <td>Flowers</td>\n",
              "      <td>7</td>\n",
              "      <td>1</td>\n",
              "      <td>7.0</td>\n",
              "      <td>56744018</td>\n",
              "      <td>-5019054.0</td>\n",
              "      <td>585390148</td>\n",
              "    </tr>\n",
              "    <tr>\n",
              "      <th>1</th>\n",
              "      <td>2</td>\n",
              "      <td>NEW</td>\n",
              "      <td>KAROL G</td>\n",
              "      <td>TQG</td>\n",
              "      <td>1</td>\n",
              "      <td>2</td>\n",
              "      <td>1.0</td>\n",
              "      <td>53284451</td>\n",
              "      <td>NaN</td>\n",
              "      <td>53284451</td>\n",
              "    </tr>\n",
              "    <tr>\n",
              "      <th>2</th>\n",
              "      <td>3</td>\n",
              "      <td>NEW</td>\n",
              "      <td>The Weeknd</td>\n",
              "      <td>Die For You</td>\n",
              "      <td>1</td>\n",
              "      <td>3</td>\n",
              "      <td>1.0</td>\n",
              "      <td>46213370</td>\n",
              "      <td>NaN</td>\n",
              "      <td>46213370</td>\n",
              "    </tr>\n",
              "    <tr>\n",
              "      <th>3</th>\n",
              "      <td>4</td>\n",
              "      <td>-2</td>\n",
              "      <td>SZA</td>\n",
              "      <td>Kill Bill</td>\n",
              "      <td>12</td>\n",
              "      <td>1</td>\n",
              "      <td>2.0</td>\n",
              "      <td>45630547</td>\n",
              "      <td>-918530.0</td>\n",
              "      <td>556085332</td>\n",
              "    </tr>\n",
              "    <tr>\n",
              "      <th>4</th>\n",
              "      <td>5</td>\n",
              "      <td>-2</td>\n",
              "      <td>PinkPantheress</td>\n",
              "      <td>Boy's a liar Pt. 2</td>\n",
              "      <td>4</td>\n",
              "      <td>3</td>\n",
              "      <td>1.0</td>\n",
              "      <td>39475419</td>\n",
              "      <td>303113.0</td>\n",
              "      <td>123300074</td>\n",
              "    </tr>\n",
              "  </tbody>\n",
              "</table>\n",
              "</div>\n",
              "      <button class=\"colab-df-convert\" onclick=\"convertToInteractive('df-7c03cccc-2f7c-4123-b73b-872cc7dd1dbe')\"\n",
              "              title=\"Convert this dataframe to an interactive table.\"\n",
              "              style=\"display:none;\">\n",
              "        \n",
              "  <svg xmlns=\"http://www.w3.org/2000/svg\" height=\"24px\"viewBox=\"0 0 24 24\"\n",
              "       width=\"24px\">\n",
              "    <path d=\"M0 0h24v24H0V0z\" fill=\"none\"/>\n",
              "    <path d=\"M18.56 5.44l.94 2.06.94-2.06 2.06-.94-2.06-.94-.94-2.06-.94 2.06-2.06.94zm-11 1L8.5 8.5l.94-2.06 2.06-.94-2.06-.94L8.5 2.5l-.94 2.06-2.06.94zm10 10l.94 2.06.94-2.06 2.06-.94-2.06-.94-.94-2.06-.94 2.06-2.06.94z\"/><path d=\"M17.41 7.96l-1.37-1.37c-.4-.4-.92-.59-1.43-.59-.52 0-1.04.2-1.43.59L10.3 9.45l-7.72 7.72c-.78.78-.78 2.05 0 2.83L4 21.41c.39.39.9.59 1.41.59.51 0 1.02-.2 1.41-.59l7.78-7.78 2.81-2.81c.8-.78.8-2.07 0-2.86zM5.41 20L4 18.59l7.72-7.72 1.47 1.35L5.41 20z\"/>\n",
              "  </svg>\n",
              "      </button>\n",
              "      \n",
              "  <style>\n",
              "    .colab-df-container {\n",
              "      display:flex;\n",
              "      flex-wrap:wrap;\n",
              "      gap: 12px;\n",
              "    }\n",
              "\n",
              "    .colab-df-convert {\n",
              "      background-color: #E8F0FE;\n",
              "      border: none;\n",
              "      border-radius: 50%;\n",
              "      cursor: pointer;\n",
              "      display: none;\n",
              "      fill: #1967D2;\n",
              "      height: 32px;\n",
              "      padding: 0 0 0 0;\n",
              "      width: 32px;\n",
              "    }\n",
              "\n",
              "    .colab-df-convert:hover {\n",
              "      background-color: #E2EBFA;\n",
              "      box-shadow: 0px 1px 2px rgba(60, 64, 67, 0.3), 0px 1px 3px 1px rgba(60, 64, 67, 0.15);\n",
              "      fill: #174EA6;\n",
              "    }\n",
              "\n",
              "    [theme=dark] .colab-df-convert {\n",
              "      background-color: #3B4455;\n",
              "      fill: #D2E3FC;\n",
              "    }\n",
              "\n",
              "    [theme=dark] .colab-df-convert:hover {\n",
              "      background-color: #434B5C;\n",
              "      box-shadow: 0px 1px 3px 1px rgba(0, 0, 0, 0.15);\n",
              "      filter: drop-shadow(0px 1px 2px rgba(0, 0, 0, 0.3));\n",
              "      fill: #FFFFFF;\n",
              "    }\n",
              "  </style>\n",
              "\n",
              "      <script>\n",
              "        const buttonEl =\n",
              "          document.querySelector('#df-7c03cccc-2f7c-4123-b73b-872cc7dd1dbe button.colab-df-convert');\n",
              "        buttonEl.style.display =\n",
              "          google.colab.kernel.accessAllowed ? 'block' : 'none';\n",
              "\n",
              "        async function convertToInteractive(key) {\n",
              "          const element = document.querySelector('#df-7c03cccc-2f7c-4123-b73b-872cc7dd1dbe');\n",
              "          const dataTable =\n",
              "            await google.colab.kernel.invokeFunction('convertToInteractive',\n",
              "                                                     [key], {});\n",
              "          if (!dataTable) return;\n",
              "\n",
              "          const docLinkHtml = 'Like what you see? Visit the ' +\n",
              "            '<a target=\"_blank\" href=https://colab.research.google.com/notebooks/data_table.ipynb>data table notebook</a>'\n",
              "            + ' to learn more about interactive tables.';\n",
              "          element.innerHTML = '';\n",
              "          dataTable['output_type'] = 'display_data';\n",
              "          await google.colab.output.renderOutput(dataTable, element);\n",
              "          const docLink = document.createElement('div');\n",
              "          docLink.innerHTML = docLinkHtml;\n",
              "          element.appendChild(docLink);\n",
              "        }\n",
              "      </script>\n",
              "    </div>\n",
              "  </div>\n",
              "  "
            ]
          },
          "metadata": {},
          "execution_count": 96
        }
      ]
    },
    {
      "cell_type": "markdown",
      "source": [
        "# **Columns Details**\n",
        "**Pos**\n",
        ":position of the song in the chart\n",
        "\n",
        "**P+**\n",
        ":number of position increased since last week\n",
        "\n",
        "**Artist**\n",
        ":name of the artist\n",
        "\n",
        "**Title**\n",
        ":title of the song\n",
        "\n",
        "**Wks**\n",
        ":number of weeks spent on the chart\n",
        "\n",
        "**Pk**\n",
        ":peak position of the song\n",
        "\n",
        "**(x?)**\n",
        ":number of times the peak position has been attained\n",
        "\n",
        "**Streams**\n",
        ":number of streams of the song\n",
        "\n",
        "**Streams+**\n",
        ":number of streams increased or decreased since last week\n",
        "\n",
        "**Total**\n",
        ":total number of streams"
      ],
      "metadata": {
        "id": "LC0ZTzYPy9NF"
      }
    },
    {
      "cell_type": "code",
      "source": [
        "spotify_chart.rename(columns={\"(x?)\": \"Pk_times\"},inplace=True)\n",
        "spotify_chart"
      ],
      "metadata": {
        "colab": {
          "base_uri": "https://localhost:8080/",
          "height": 423
        },
        "id": "O_OnPfVVzyde",
        "outputId": "27ee9685-f2e0-483d-a9ad-1b6bf4f17992"
      },
      "execution_count": null,
      "outputs": [
        {
          "output_type": "execute_result",
          "data": {
            "text/plain": [
              "     Pos   P+                    Artist                              Title  \\\n",
              "0      1    =              Miley Cyrus                             Flowers   \n",
              "1      2  NEW                  KAROL G                                 TQG   \n",
              "2      3  NEW               The Weeknd                         Die For You   \n",
              "3      4   -2                      SZA                           Kill Bill   \n",
              "4      5   -2           PinkPantheress                  Boy's a liar Pt. 2   \n",
              "..   ...  ...                       ...                                ...   \n",
              "195  196   -1               Ayra Starr                                Rush   \n",
              "196  197   -1                   Coolio                  Gangsta's Paradise   \n",
              "197  198   RE  Macklemore & Ryan Lewis                       Can't Hold Us   \n",
              "198  199  -12               Conan Gray                             Heather   \n",
              "199  200   RE          Tears For Fears   Everybody Wants To Rule The World   \n",
              "\n",
              "     Wks   Pk  Pk_times   Streams   Streams+       Total  \n",
              "0      7    1       7.0  56744018 -5019054.0   585390148  \n",
              "1      1    2       1.0  53284451        NaN    53284451  \n",
              "2      1    3       1.0  46213370        NaN    46213370  \n",
              "3     12    1       2.0  45630547  -918530.0   556085332  \n",
              "4      4    3       1.0  39475419   303113.0   123300074  \n",
              "..   ...  ...       ...       ...        ...         ...  \n",
              "195    3  172       NaN   7464507    95501.0    22698871  \n",
              "196   66   40       NaN   7458994   130827.0   432796603  \n",
              "197   40  107       NaN   7432128        NaN   253903960  \n",
              "198  136   12       NaN   7393629  -118755.0  1085427136  \n",
              "199   29  105       NaN   7380345        NaN   202428673  \n",
              "\n",
              "[200 rows x 10 columns]"
            ],
            "text/html": [
              "\n",
              "  <div id=\"df-5f46ad25-fd67-47a8-adfe-3dc112190efa\">\n",
              "    <div class=\"colab-df-container\">\n",
              "      <div>\n",
              "<style scoped>\n",
              "    .dataframe tbody tr th:only-of-type {\n",
              "        vertical-align: middle;\n",
              "    }\n",
              "\n",
              "    .dataframe tbody tr th {\n",
              "        vertical-align: top;\n",
              "    }\n",
              "\n",
              "    .dataframe thead th {\n",
              "        text-align: right;\n",
              "    }\n",
              "</style>\n",
              "<table border=\"1\" class=\"dataframe\">\n",
              "  <thead>\n",
              "    <tr style=\"text-align: right;\">\n",
              "      <th></th>\n",
              "      <th>Pos</th>\n",
              "      <th>P+</th>\n",
              "      <th>Artist</th>\n",
              "      <th>Title</th>\n",
              "      <th>Wks</th>\n",
              "      <th>Pk</th>\n",
              "      <th>Pk_times</th>\n",
              "      <th>Streams</th>\n",
              "      <th>Streams+</th>\n",
              "      <th>Total</th>\n",
              "    </tr>\n",
              "  </thead>\n",
              "  <tbody>\n",
              "    <tr>\n",
              "      <th>0</th>\n",
              "      <td>1</td>\n",
              "      <td>=</td>\n",
              "      <td>Miley Cyrus</td>\n",
              "      <td>Flowers</td>\n",
              "      <td>7</td>\n",
              "      <td>1</td>\n",
              "      <td>7.0</td>\n",
              "      <td>56744018</td>\n",
              "      <td>-5019054.0</td>\n",
              "      <td>585390148</td>\n",
              "    </tr>\n",
              "    <tr>\n",
              "      <th>1</th>\n",
              "      <td>2</td>\n",
              "      <td>NEW</td>\n",
              "      <td>KAROL G</td>\n",
              "      <td>TQG</td>\n",
              "      <td>1</td>\n",
              "      <td>2</td>\n",
              "      <td>1.0</td>\n",
              "      <td>53284451</td>\n",
              "      <td>NaN</td>\n",
              "      <td>53284451</td>\n",
              "    </tr>\n",
              "    <tr>\n",
              "      <th>2</th>\n",
              "      <td>3</td>\n",
              "      <td>NEW</td>\n",
              "      <td>The Weeknd</td>\n",
              "      <td>Die For You</td>\n",
              "      <td>1</td>\n",
              "      <td>3</td>\n",
              "      <td>1.0</td>\n",
              "      <td>46213370</td>\n",
              "      <td>NaN</td>\n",
              "      <td>46213370</td>\n",
              "    </tr>\n",
              "    <tr>\n",
              "      <th>3</th>\n",
              "      <td>4</td>\n",
              "      <td>-2</td>\n",
              "      <td>SZA</td>\n",
              "      <td>Kill Bill</td>\n",
              "      <td>12</td>\n",
              "      <td>1</td>\n",
              "      <td>2.0</td>\n",
              "      <td>45630547</td>\n",
              "      <td>-918530.0</td>\n",
              "      <td>556085332</td>\n",
              "    </tr>\n",
              "    <tr>\n",
              "      <th>4</th>\n",
              "      <td>5</td>\n",
              "      <td>-2</td>\n",
              "      <td>PinkPantheress</td>\n",
              "      <td>Boy's a liar Pt. 2</td>\n",
              "      <td>4</td>\n",
              "      <td>3</td>\n",
              "      <td>1.0</td>\n",
              "      <td>39475419</td>\n",
              "      <td>303113.0</td>\n",
              "      <td>123300074</td>\n",
              "    </tr>\n",
              "    <tr>\n",
              "      <th>...</th>\n",
              "      <td>...</td>\n",
              "      <td>...</td>\n",
              "      <td>...</td>\n",
              "      <td>...</td>\n",
              "      <td>...</td>\n",
              "      <td>...</td>\n",
              "      <td>...</td>\n",
              "      <td>...</td>\n",
              "      <td>...</td>\n",
              "      <td>...</td>\n",
              "    </tr>\n",
              "    <tr>\n",
              "      <th>195</th>\n",
              "      <td>196</td>\n",
              "      <td>-1</td>\n",
              "      <td>Ayra Starr</td>\n",
              "      <td>Rush</td>\n",
              "      <td>3</td>\n",
              "      <td>172</td>\n",
              "      <td>NaN</td>\n",
              "      <td>7464507</td>\n",
              "      <td>95501.0</td>\n",
              "      <td>22698871</td>\n",
              "    </tr>\n",
              "    <tr>\n",
              "      <th>196</th>\n",
              "      <td>197</td>\n",
              "      <td>-1</td>\n",
              "      <td>Coolio</td>\n",
              "      <td>Gangsta's Paradise</td>\n",
              "      <td>66</td>\n",
              "      <td>40</td>\n",
              "      <td>NaN</td>\n",
              "      <td>7458994</td>\n",
              "      <td>130827.0</td>\n",
              "      <td>432796603</td>\n",
              "    </tr>\n",
              "    <tr>\n",
              "      <th>197</th>\n",
              "      <td>198</td>\n",
              "      <td>RE</td>\n",
              "      <td>Macklemore &amp; Ryan Lewis</td>\n",
              "      <td>Can't Hold Us</td>\n",
              "      <td>40</td>\n",
              "      <td>107</td>\n",
              "      <td>NaN</td>\n",
              "      <td>7432128</td>\n",
              "      <td>NaN</td>\n",
              "      <td>253903960</td>\n",
              "    </tr>\n",
              "    <tr>\n",
              "      <th>198</th>\n",
              "      <td>199</td>\n",
              "      <td>-12</td>\n",
              "      <td>Conan Gray</td>\n",
              "      <td>Heather</td>\n",
              "      <td>136</td>\n",
              "      <td>12</td>\n",
              "      <td>NaN</td>\n",
              "      <td>7393629</td>\n",
              "      <td>-118755.0</td>\n",
              "      <td>1085427136</td>\n",
              "    </tr>\n",
              "    <tr>\n",
              "      <th>199</th>\n",
              "      <td>200</td>\n",
              "      <td>RE</td>\n",
              "      <td>Tears For Fears</td>\n",
              "      <td>Everybody Wants To Rule The World</td>\n",
              "      <td>29</td>\n",
              "      <td>105</td>\n",
              "      <td>NaN</td>\n",
              "      <td>7380345</td>\n",
              "      <td>NaN</td>\n",
              "      <td>202428673</td>\n",
              "    </tr>\n",
              "  </tbody>\n",
              "</table>\n",
              "<p>200 rows × 10 columns</p>\n",
              "</div>\n",
              "      <button class=\"colab-df-convert\" onclick=\"convertToInteractive('df-5f46ad25-fd67-47a8-adfe-3dc112190efa')\"\n",
              "              title=\"Convert this dataframe to an interactive table.\"\n",
              "              style=\"display:none;\">\n",
              "        \n",
              "  <svg xmlns=\"http://www.w3.org/2000/svg\" height=\"24px\"viewBox=\"0 0 24 24\"\n",
              "       width=\"24px\">\n",
              "    <path d=\"M0 0h24v24H0V0z\" fill=\"none\"/>\n",
              "    <path d=\"M18.56 5.44l.94 2.06.94-2.06 2.06-.94-2.06-.94-.94-2.06-.94 2.06-2.06.94zm-11 1L8.5 8.5l.94-2.06 2.06-.94-2.06-.94L8.5 2.5l-.94 2.06-2.06.94zm10 10l.94 2.06.94-2.06 2.06-.94-2.06-.94-.94-2.06-.94 2.06-2.06.94z\"/><path d=\"M17.41 7.96l-1.37-1.37c-.4-.4-.92-.59-1.43-.59-.52 0-1.04.2-1.43.59L10.3 9.45l-7.72 7.72c-.78.78-.78 2.05 0 2.83L4 21.41c.39.39.9.59 1.41.59.51 0 1.02-.2 1.41-.59l7.78-7.78 2.81-2.81c.8-.78.8-2.07 0-2.86zM5.41 20L4 18.59l7.72-7.72 1.47 1.35L5.41 20z\"/>\n",
              "  </svg>\n",
              "      </button>\n",
              "      \n",
              "  <style>\n",
              "    .colab-df-container {\n",
              "      display:flex;\n",
              "      flex-wrap:wrap;\n",
              "      gap: 12px;\n",
              "    }\n",
              "\n",
              "    .colab-df-convert {\n",
              "      background-color: #E8F0FE;\n",
              "      border: none;\n",
              "      border-radius: 50%;\n",
              "      cursor: pointer;\n",
              "      display: none;\n",
              "      fill: #1967D2;\n",
              "      height: 32px;\n",
              "      padding: 0 0 0 0;\n",
              "      width: 32px;\n",
              "    }\n",
              "\n",
              "    .colab-df-convert:hover {\n",
              "      background-color: #E2EBFA;\n",
              "      box-shadow: 0px 1px 2px rgba(60, 64, 67, 0.3), 0px 1px 3px 1px rgba(60, 64, 67, 0.15);\n",
              "      fill: #174EA6;\n",
              "    }\n",
              "\n",
              "    [theme=dark] .colab-df-convert {\n",
              "      background-color: #3B4455;\n",
              "      fill: #D2E3FC;\n",
              "    }\n",
              "\n",
              "    [theme=dark] .colab-df-convert:hover {\n",
              "      background-color: #434B5C;\n",
              "      box-shadow: 0px 1px 3px 1px rgba(0, 0, 0, 0.15);\n",
              "      filter: drop-shadow(0px 1px 2px rgba(0, 0, 0, 0.3));\n",
              "      fill: #FFFFFF;\n",
              "    }\n",
              "  </style>\n",
              "\n",
              "      <script>\n",
              "        const buttonEl =\n",
              "          document.querySelector('#df-5f46ad25-fd67-47a8-adfe-3dc112190efa button.colab-df-convert');\n",
              "        buttonEl.style.display =\n",
              "          google.colab.kernel.accessAllowed ? 'block' : 'none';\n",
              "\n",
              "        async function convertToInteractive(key) {\n",
              "          const element = document.querySelector('#df-5f46ad25-fd67-47a8-adfe-3dc112190efa');\n",
              "          const dataTable =\n",
              "            await google.colab.kernel.invokeFunction('convertToInteractive',\n",
              "                                                     [key], {});\n",
              "          if (!dataTable) return;\n",
              "\n",
              "          const docLinkHtml = 'Like what you see? Visit the ' +\n",
              "            '<a target=\"_blank\" href=https://colab.research.google.com/notebooks/data_table.ipynb>data table notebook</a>'\n",
              "            + ' to learn more about interactive tables.';\n",
              "          element.innerHTML = '';\n",
              "          dataTable['output_type'] = 'display_data';\n",
              "          await google.colab.output.renderOutput(dataTable, element);\n",
              "          const docLink = document.createElement('div');\n",
              "          docLink.innerHTML = docLinkHtml;\n",
              "          element.appendChild(docLink);\n",
              "        }\n",
              "      </script>\n",
              "    </div>\n",
              "  </div>\n",
              "  "
            ]
          },
          "metadata": {},
          "execution_count": 97
        }
      ]
    },
    {
      "cell_type": "code",
      "source": [
        "spotify_chart.size"
      ],
      "metadata": {
        "colab": {
          "base_uri": "https://localhost:8080/"
        },
        "id": "1fz9JOWj5GVG",
        "outputId": "87d066f1-537c-4975-ffb1-68c70f54821d"
      },
      "execution_count": null,
      "outputs": [
        {
          "output_type": "execute_result",
          "data": {
            "text/plain": [
              "2000"
            ]
          },
          "metadata": {},
          "execution_count": 98
        }
      ]
    },
    {
      "cell_type": "code",
      "source": [
        "spotify_chart.describe()"
      ],
      "metadata": {
        "colab": {
          "base_uri": "https://localhost:8080/",
          "height": 300
        },
        "id": "DSC7D5VqzjgY",
        "outputId": "d62a3b13-3be5-4990-82d0-fcb38d04e6e7"
      },
      "execution_count": null,
      "outputs": [
        {
          "output_type": "execute_result",
          "data": {
            "text/plain": [
              "              Pos         Wks          Pk   Pk_times       Streams  \\\n",
              "count  200.000000  200.000000  200.000000  32.000000  2.000000e+02   \n",
              "mean   100.500000   44.320000   44.430000   4.343750  1.234559e+07   \n",
              "std     57.879185   62.797814   45.874365   4.052951  7.487268e+06   \n",
              "min      1.000000    1.000000    1.000000   1.000000  7.380345e+06   \n",
              "25%     50.750000    8.750000    8.000000   1.000000  8.161052e+06   \n",
              "50%    100.500000   21.500000   26.000000   2.500000  9.651425e+06   \n",
              "75%    150.250000   43.500000   68.500000   7.000000  1.335033e+07   \n",
              "max    200.000000  317.000000  195.000000  14.000000  5.674402e+07   \n",
              "\n",
              "           Streams+         Total  \n",
              "count  1.840000e+02  2.000000e+02  \n",
              "mean   9.807673e+04  4.752502e+08  \n",
              "std    1.387336e+06  6.045380e+08  \n",
              "min   -6.062515e+06  7.470526e+06  \n",
              "25%   -3.738820e+05  8.970985e+07  \n",
              "50%   -2.269000e+03  2.496519e+08  \n",
              "75%    3.040725e+05  6.190585e+08  \n",
              "max    8.062485e+06  3.379518e+09  "
            ],
            "text/html": [
              "\n",
              "  <div id=\"df-dc134021-37fa-4333-a20d-9461df84165d\">\n",
              "    <div class=\"colab-df-container\">\n",
              "      <div>\n",
              "<style scoped>\n",
              "    .dataframe tbody tr th:only-of-type {\n",
              "        vertical-align: middle;\n",
              "    }\n",
              "\n",
              "    .dataframe tbody tr th {\n",
              "        vertical-align: top;\n",
              "    }\n",
              "\n",
              "    .dataframe thead th {\n",
              "        text-align: right;\n",
              "    }\n",
              "</style>\n",
              "<table border=\"1\" class=\"dataframe\">\n",
              "  <thead>\n",
              "    <tr style=\"text-align: right;\">\n",
              "      <th></th>\n",
              "      <th>Pos</th>\n",
              "      <th>Wks</th>\n",
              "      <th>Pk</th>\n",
              "      <th>Pk_times</th>\n",
              "      <th>Streams</th>\n",
              "      <th>Streams+</th>\n",
              "      <th>Total</th>\n",
              "    </tr>\n",
              "  </thead>\n",
              "  <tbody>\n",
              "    <tr>\n",
              "      <th>count</th>\n",
              "      <td>200.000000</td>\n",
              "      <td>200.000000</td>\n",
              "      <td>200.000000</td>\n",
              "      <td>32.000000</td>\n",
              "      <td>2.000000e+02</td>\n",
              "      <td>1.840000e+02</td>\n",
              "      <td>2.000000e+02</td>\n",
              "    </tr>\n",
              "    <tr>\n",
              "      <th>mean</th>\n",
              "      <td>100.500000</td>\n",
              "      <td>44.320000</td>\n",
              "      <td>44.430000</td>\n",
              "      <td>4.343750</td>\n",
              "      <td>1.234559e+07</td>\n",
              "      <td>9.807673e+04</td>\n",
              "      <td>4.752502e+08</td>\n",
              "    </tr>\n",
              "    <tr>\n",
              "      <th>std</th>\n",
              "      <td>57.879185</td>\n",
              "      <td>62.797814</td>\n",
              "      <td>45.874365</td>\n",
              "      <td>4.052951</td>\n",
              "      <td>7.487268e+06</td>\n",
              "      <td>1.387336e+06</td>\n",
              "      <td>6.045380e+08</td>\n",
              "    </tr>\n",
              "    <tr>\n",
              "      <th>min</th>\n",
              "      <td>1.000000</td>\n",
              "      <td>1.000000</td>\n",
              "      <td>1.000000</td>\n",
              "      <td>1.000000</td>\n",
              "      <td>7.380345e+06</td>\n",
              "      <td>-6.062515e+06</td>\n",
              "      <td>7.470526e+06</td>\n",
              "    </tr>\n",
              "    <tr>\n",
              "      <th>25%</th>\n",
              "      <td>50.750000</td>\n",
              "      <td>8.750000</td>\n",
              "      <td>8.000000</td>\n",
              "      <td>1.000000</td>\n",
              "      <td>8.161052e+06</td>\n",
              "      <td>-3.738820e+05</td>\n",
              "      <td>8.970985e+07</td>\n",
              "    </tr>\n",
              "    <tr>\n",
              "      <th>50%</th>\n",
              "      <td>100.500000</td>\n",
              "      <td>21.500000</td>\n",
              "      <td>26.000000</td>\n",
              "      <td>2.500000</td>\n",
              "      <td>9.651425e+06</td>\n",
              "      <td>-2.269000e+03</td>\n",
              "      <td>2.496519e+08</td>\n",
              "    </tr>\n",
              "    <tr>\n",
              "      <th>75%</th>\n",
              "      <td>150.250000</td>\n",
              "      <td>43.500000</td>\n",
              "      <td>68.500000</td>\n",
              "      <td>7.000000</td>\n",
              "      <td>1.335033e+07</td>\n",
              "      <td>3.040725e+05</td>\n",
              "      <td>6.190585e+08</td>\n",
              "    </tr>\n",
              "    <tr>\n",
              "      <th>max</th>\n",
              "      <td>200.000000</td>\n",
              "      <td>317.000000</td>\n",
              "      <td>195.000000</td>\n",
              "      <td>14.000000</td>\n",
              "      <td>5.674402e+07</td>\n",
              "      <td>8.062485e+06</td>\n",
              "      <td>3.379518e+09</td>\n",
              "    </tr>\n",
              "  </tbody>\n",
              "</table>\n",
              "</div>\n",
              "      <button class=\"colab-df-convert\" onclick=\"convertToInteractive('df-dc134021-37fa-4333-a20d-9461df84165d')\"\n",
              "              title=\"Convert this dataframe to an interactive table.\"\n",
              "              style=\"display:none;\">\n",
              "        \n",
              "  <svg xmlns=\"http://www.w3.org/2000/svg\" height=\"24px\"viewBox=\"0 0 24 24\"\n",
              "       width=\"24px\">\n",
              "    <path d=\"M0 0h24v24H0V0z\" fill=\"none\"/>\n",
              "    <path d=\"M18.56 5.44l.94 2.06.94-2.06 2.06-.94-2.06-.94-.94-2.06-.94 2.06-2.06.94zm-11 1L8.5 8.5l.94-2.06 2.06-.94-2.06-.94L8.5 2.5l-.94 2.06-2.06.94zm10 10l.94 2.06.94-2.06 2.06-.94-2.06-.94-.94-2.06-.94 2.06-2.06.94z\"/><path d=\"M17.41 7.96l-1.37-1.37c-.4-.4-.92-.59-1.43-.59-.52 0-1.04.2-1.43.59L10.3 9.45l-7.72 7.72c-.78.78-.78 2.05 0 2.83L4 21.41c.39.39.9.59 1.41.59.51 0 1.02-.2 1.41-.59l7.78-7.78 2.81-2.81c.8-.78.8-2.07 0-2.86zM5.41 20L4 18.59l7.72-7.72 1.47 1.35L5.41 20z\"/>\n",
              "  </svg>\n",
              "      </button>\n",
              "      \n",
              "  <style>\n",
              "    .colab-df-container {\n",
              "      display:flex;\n",
              "      flex-wrap:wrap;\n",
              "      gap: 12px;\n",
              "    }\n",
              "\n",
              "    .colab-df-convert {\n",
              "      background-color: #E8F0FE;\n",
              "      border: none;\n",
              "      border-radius: 50%;\n",
              "      cursor: pointer;\n",
              "      display: none;\n",
              "      fill: #1967D2;\n",
              "      height: 32px;\n",
              "      padding: 0 0 0 0;\n",
              "      width: 32px;\n",
              "    }\n",
              "\n",
              "    .colab-df-convert:hover {\n",
              "      background-color: #E2EBFA;\n",
              "      box-shadow: 0px 1px 2px rgba(60, 64, 67, 0.3), 0px 1px 3px 1px rgba(60, 64, 67, 0.15);\n",
              "      fill: #174EA6;\n",
              "    }\n",
              "\n",
              "    [theme=dark] .colab-df-convert {\n",
              "      background-color: #3B4455;\n",
              "      fill: #D2E3FC;\n",
              "    }\n",
              "\n",
              "    [theme=dark] .colab-df-convert:hover {\n",
              "      background-color: #434B5C;\n",
              "      box-shadow: 0px 1px 3px 1px rgba(0, 0, 0, 0.15);\n",
              "      filter: drop-shadow(0px 1px 2px rgba(0, 0, 0, 0.3));\n",
              "      fill: #FFFFFF;\n",
              "    }\n",
              "  </style>\n",
              "\n",
              "      <script>\n",
              "        const buttonEl =\n",
              "          document.querySelector('#df-dc134021-37fa-4333-a20d-9461df84165d button.colab-df-convert');\n",
              "        buttonEl.style.display =\n",
              "          google.colab.kernel.accessAllowed ? 'block' : 'none';\n",
              "\n",
              "        async function convertToInteractive(key) {\n",
              "          const element = document.querySelector('#df-dc134021-37fa-4333-a20d-9461df84165d');\n",
              "          const dataTable =\n",
              "            await google.colab.kernel.invokeFunction('convertToInteractive',\n",
              "                                                     [key], {});\n",
              "          if (!dataTable) return;\n",
              "\n",
              "          const docLinkHtml = 'Like what you see? Visit the ' +\n",
              "            '<a target=\"_blank\" href=https://colab.research.google.com/notebooks/data_table.ipynb>data table notebook</a>'\n",
              "            + ' to learn more about interactive tables.';\n",
              "          element.innerHTML = '';\n",
              "          dataTable['output_type'] = 'display_data';\n",
              "          await google.colab.output.renderOutput(dataTable, element);\n",
              "          const docLink = document.createElement('div');\n",
              "          docLink.innerHTML = docLinkHtml;\n",
              "          element.appendChild(docLink);\n",
              "        }\n",
              "      </script>\n",
              "    </div>\n",
              "  </div>\n",
              "  "
            ]
          },
          "metadata": {},
          "execution_count": 99
        }
      ]
    },
    {
      "cell_type": "markdown",
      "source": [
        "**Data Cleaning**\n"
      ],
      "metadata": {
        "id": "Mshh_cK5Qum7"
      }
    },
    {
      "cell_type": "code",
      "source": [
        "#check missing values\n",
        "spotify_chart.isna().sum()"
      ],
      "metadata": {
        "colab": {
          "base_uri": "https://localhost:8080/"
        },
        "id": "nsEbfu7Ozn5F",
        "outputId": "e368a81e-42e6-4717-f2a2-62f4b745bfbd"
      },
      "execution_count": null,
      "outputs": [
        {
          "output_type": "execute_result",
          "data": {
            "text/plain": [
              "Pos           0\n",
              "P+            0\n",
              "Artist        0\n",
              "Title         0\n",
              "Wks           0\n",
              "Pk            0\n",
              "Pk_times    168\n",
              "Streams       0\n",
              "Streams+     16\n",
              "Total         0\n",
              "dtype: int64"
            ]
          },
          "metadata": {},
          "execution_count": 100
        }
      ]
    },
    {
      "cell_type": "code",
      "source": [
        "spotify_chart.loc[8]"
      ],
      "metadata": {
        "colab": {
          "base_uri": "https://localhost:8080/"
        },
        "id": "6-IxfllQP3rM",
        "outputId": "51a444cd-35a7-4ada-97d0-206701918cdd"
      },
      "execution_count": null,
      "outputs": [
        {
          "output_type": "execute_result",
          "data": {
            "text/plain": [
              "Pos                  9\n",
              "P+                  -1\n",
              "Artist         Yandel \n",
              "Title       Yandel 150\n",
              "Wks                  8\n",
              "Pk                   8\n",
              "Pk_times           NaN\n",
              "Streams       26978839\n",
              "Streams+     2005666.0\n",
              "Total        181143781\n",
              "Name: 8, dtype: object"
            ]
          },
          "metadata": {},
          "execution_count": 101
        }
      ]
    },
    {
      "cell_type": "code",
      "source": [
        "#check missing values in Pk_times\n",
        "Pk_times_na = spotify_chart[['Title','Pk','Pk_times']][spotify_chart.Pk_times.isna()]\n",
        "Pk_times_na['Title+Pk'] = Pk_times_na.apply(lambda x: '{},{}'.format(x['Title'],x['Pk']), axis=1)\n",
        "Pk_times_na[['Title+Pk']]"
      ],
      "metadata": {
        "colab": {
          "base_uri": "https://localhost:8080/",
          "height": 423
        },
        "id": "BcXbcv5Q_gHX",
        "outputId": "92adbc7e-0ee7-4209-cb71-93c98e4f7d33"
      },
      "execution_count": null,
      "outputs": [
        {
          "output_type": "execute_result",
          "data": {
            "text/plain": [
              "                                  Title+Pk\n",
              "8                             Yandel 150,8\n",
              "10                            La Bachata,4\n",
              "11                             Calm Down,9\n",
              "12                        X SI VOLVEMOS,13\n",
              "13                          Die For You,12\n",
              "..                                     ...\n",
              "195                               Rush,172\n",
              "196                  Gangsta's Paradise,40\n",
              "197                      Can't Hold Us,107\n",
              "198                             Heather,12\n",
              "199  Everybody Wants To Rule The World,105\n",
              "\n",
              "[168 rows x 1 columns]"
            ],
            "text/html": [
              "\n",
              "  <div id=\"df-b83ee406-1621-45b9-be1c-c1ebefca1431\">\n",
              "    <div class=\"colab-df-container\">\n",
              "      <div>\n",
              "<style scoped>\n",
              "    .dataframe tbody tr th:only-of-type {\n",
              "        vertical-align: middle;\n",
              "    }\n",
              "\n",
              "    .dataframe tbody tr th {\n",
              "        vertical-align: top;\n",
              "    }\n",
              "\n",
              "    .dataframe thead th {\n",
              "        text-align: right;\n",
              "    }\n",
              "</style>\n",
              "<table border=\"1\" class=\"dataframe\">\n",
              "  <thead>\n",
              "    <tr style=\"text-align: right;\">\n",
              "      <th></th>\n",
              "      <th>Title+Pk</th>\n",
              "    </tr>\n",
              "  </thead>\n",
              "  <tbody>\n",
              "    <tr>\n",
              "      <th>8</th>\n",
              "      <td>Yandel 150,8</td>\n",
              "    </tr>\n",
              "    <tr>\n",
              "      <th>10</th>\n",
              "      <td>La Bachata,4</td>\n",
              "    </tr>\n",
              "    <tr>\n",
              "      <th>11</th>\n",
              "      <td>Calm Down,9</td>\n",
              "    </tr>\n",
              "    <tr>\n",
              "      <th>12</th>\n",
              "      <td>X SI VOLVEMOS,13</td>\n",
              "    </tr>\n",
              "    <tr>\n",
              "      <th>13</th>\n",
              "      <td>Die For You,12</td>\n",
              "    </tr>\n",
              "    <tr>\n",
              "      <th>...</th>\n",
              "      <td>...</td>\n",
              "    </tr>\n",
              "    <tr>\n",
              "      <th>195</th>\n",
              "      <td>Rush,172</td>\n",
              "    </tr>\n",
              "    <tr>\n",
              "      <th>196</th>\n",
              "      <td>Gangsta's Paradise,40</td>\n",
              "    </tr>\n",
              "    <tr>\n",
              "      <th>197</th>\n",
              "      <td>Can't Hold Us,107</td>\n",
              "    </tr>\n",
              "    <tr>\n",
              "      <th>198</th>\n",
              "      <td>Heather,12</td>\n",
              "    </tr>\n",
              "    <tr>\n",
              "      <th>199</th>\n",
              "      <td>Everybody Wants To Rule The World,105</td>\n",
              "    </tr>\n",
              "  </tbody>\n",
              "</table>\n",
              "<p>168 rows × 1 columns</p>\n",
              "</div>\n",
              "      <button class=\"colab-df-convert\" onclick=\"convertToInteractive('df-b83ee406-1621-45b9-be1c-c1ebefca1431')\"\n",
              "              title=\"Convert this dataframe to an interactive table.\"\n",
              "              style=\"display:none;\">\n",
              "        \n",
              "  <svg xmlns=\"http://www.w3.org/2000/svg\" height=\"24px\"viewBox=\"0 0 24 24\"\n",
              "       width=\"24px\">\n",
              "    <path d=\"M0 0h24v24H0V0z\" fill=\"none\"/>\n",
              "    <path d=\"M18.56 5.44l.94 2.06.94-2.06 2.06-.94-2.06-.94-.94-2.06-.94 2.06-2.06.94zm-11 1L8.5 8.5l.94-2.06 2.06-.94-2.06-.94L8.5 2.5l-.94 2.06-2.06.94zm10 10l.94 2.06.94-2.06 2.06-.94-2.06-.94-.94-2.06-.94 2.06-2.06.94z\"/><path d=\"M17.41 7.96l-1.37-1.37c-.4-.4-.92-.59-1.43-.59-.52 0-1.04.2-1.43.59L10.3 9.45l-7.72 7.72c-.78.78-.78 2.05 0 2.83L4 21.41c.39.39.9.59 1.41.59.51 0 1.02-.2 1.41-.59l7.78-7.78 2.81-2.81c.8-.78.8-2.07 0-2.86zM5.41 20L4 18.59l7.72-7.72 1.47 1.35L5.41 20z\"/>\n",
              "  </svg>\n",
              "      </button>\n",
              "      \n",
              "  <style>\n",
              "    .colab-df-container {\n",
              "      display:flex;\n",
              "      flex-wrap:wrap;\n",
              "      gap: 12px;\n",
              "    }\n",
              "\n",
              "    .colab-df-convert {\n",
              "      background-color: #E8F0FE;\n",
              "      border: none;\n",
              "      border-radius: 50%;\n",
              "      cursor: pointer;\n",
              "      display: none;\n",
              "      fill: #1967D2;\n",
              "      height: 32px;\n",
              "      padding: 0 0 0 0;\n",
              "      width: 32px;\n",
              "    }\n",
              "\n",
              "    .colab-df-convert:hover {\n",
              "      background-color: #E2EBFA;\n",
              "      box-shadow: 0px 1px 2px rgba(60, 64, 67, 0.3), 0px 1px 3px 1px rgba(60, 64, 67, 0.15);\n",
              "      fill: #174EA6;\n",
              "    }\n",
              "\n",
              "    [theme=dark] .colab-df-convert {\n",
              "      background-color: #3B4455;\n",
              "      fill: #D2E3FC;\n",
              "    }\n",
              "\n",
              "    [theme=dark] .colab-df-convert:hover {\n",
              "      background-color: #434B5C;\n",
              "      box-shadow: 0px 1px 3px 1px rgba(0, 0, 0, 0.15);\n",
              "      filter: drop-shadow(0px 1px 2px rgba(0, 0, 0, 0.3));\n",
              "      fill: #FFFFFF;\n",
              "    }\n",
              "  </style>\n",
              "\n",
              "      <script>\n",
              "        const buttonEl =\n",
              "          document.querySelector('#df-b83ee406-1621-45b9-be1c-c1ebefca1431 button.colab-df-convert');\n",
              "        buttonEl.style.display =\n",
              "          google.colab.kernel.accessAllowed ? 'block' : 'none';\n",
              "\n",
              "        async function convertToInteractive(key) {\n",
              "          const element = document.querySelector('#df-b83ee406-1621-45b9-be1c-c1ebefca1431');\n",
              "          const dataTable =\n",
              "            await google.colab.kernel.invokeFunction('convertToInteractive',\n",
              "                                                     [key], {});\n",
              "          if (!dataTable) return;\n",
              "\n",
              "          const docLinkHtml = 'Like what you see? Visit the ' +\n",
              "            '<a target=\"_blank\" href=https://colab.research.google.com/notebooks/data_table.ipynb>data table notebook</a>'\n",
              "            + ' to learn more about interactive tables.';\n",
              "          element.innerHTML = '';\n",
              "          dataTable['output_type'] = 'display_data';\n",
              "          await google.colab.output.renderOutput(dataTable, element);\n",
              "          const docLink = document.createElement('div');\n",
              "          docLink.innerHTML = docLinkHtml;\n",
              "          element.appendChild(docLink);\n",
              "        }\n",
              "      </script>\n",
              "    </div>\n",
              "  </div>\n",
              "  "
            ]
          },
          "metadata": {},
          "execution_count": 102
        }
      ]
    },
    {
      "cell_type": "code",
      "source": [
        "#fill missing values in Pk_times with 0 \n",
        "spotify_chart.Pk_times.fillna(0, inplace=True)\n",
        "spotify_chart.Pk_times.isna().sum()"
      ],
      "metadata": {
        "colab": {
          "base_uri": "https://localhost:8080/"
        },
        "id": "qT_6YfSR5ak4",
        "outputId": "97f7d0a6-fa96-4117-ac0c-59db989027e7"
      },
      "execution_count": null,
      "outputs": [
        {
          "output_type": "execute_result",
          "data": {
            "text/plain": [
              "0"
            ]
          },
          "metadata": {},
          "execution_count": 103
        }
      ]
    },
    {
      "cell_type": "markdown",
      "source": [
        "Since the number of missing values in Pk_times is equal to the number of the combination of Title and Peak of the data with missing values in Pk_times, those missing values are allowed to filled in with 0."
      ],
      "metadata": {
        "id": "3drEzJwNQ_Kc"
      }
    },
    {
      "cell_type": "code",
      "source": [
        "#check missing values in Streams+\n",
        "title_count = pd.DataFrame(spotify_chart['Title'].value_counts())\n",
        "title_count.reset_index(inplace=True)"
      ],
      "metadata": {
        "id": "LWg5QpWT79Us"
      },
      "execution_count": null,
      "outputs": []
    },
    {
      "cell_type": "code",
      "source": [
        "title_count.columns = ['Title','times']\n",
        "title_count"
      ],
      "metadata": {
        "colab": {
          "base_uri": "https://localhost:8080/",
          "height": 423
        },
        "id": "ICjH2Av99G_k",
        "outputId": "61801558-92a9-4897-925e-7b4863c3c7f9"
      },
      "execution_count": null,
      "outputs": [
        {
          "output_type": "execute_result",
          "data": {
            "text/plain": [
              "                                 Title  times\n",
              "0                          Die For You      2\n",
              "1                    Until I Found You      2\n",
              "2                            Calm Down      2\n",
              "3                           Sure Thing      2\n",
              "4                              Flowers      1\n",
              "..                                 ...    ...\n",
              "191                      Fin de Semana      1\n",
              "192                           Miss You      1\n",
              "193             El Gordo Trae El Mando      1\n",
              "194                      We Found Love      1\n",
              "195  Everybody Wants To Rule The World      1\n",
              "\n",
              "[196 rows x 2 columns]"
            ],
            "text/html": [
              "\n",
              "  <div id=\"df-de1a95b6-0468-41ce-b21d-f37399cf2843\">\n",
              "    <div class=\"colab-df-container\">\n",
              "      <div>\n",
              "<style scoped>\n",
              "    .dataframe tbody tr th:only-of-type {\n",
              "        vertical-align: middle;\n",
              "    }\n",
              "\n",
              "    .dataframe tbody tr th {\n",
              "        vertical-align: top;\n",
              "    }\n",
              "\n",
              "    .dataframe thead th {\n",
              "        text-align: right;\n",
              "    }\n",
              "</style>\n",
              "<table border=\"1\" class=\"dataframe\">\n",
              "  <thead>\n",
              "    <tr style=\"text-align: right;\">\n",
              "      <th></th>\n",
              "      <th>Title</th>\n",
              "      <th>times</th>\n",
              "    </tr>\n",
              "  </thead>\n",
              "  <tbody>\n",
              "    <tr>\n",
              "      <th>0</th>\n",
              "      <td>Die For You</td>\n",
              "      <td>2</td>\n",
              "    </tr>\n",
              "    <tr>\n",
              "      <th>1</th>\n",
              "      <td>Until I Found You</td>\n",
              "      <td>2</td>\n",
              "    </tr>\n",
              "    <tr>\n",
              "      <th>2</th>\n",
              "      <td>Calm Down</td>\n",
              "      <td>2</td>\n",
              "    </tr>\n",
              "    <tr>\n",
              "      <th>3</th>\n",
              "      <td>Sure Thing</td>\n",
              "      <td>2</td>\n",
              "    </tr>\n",
              "    <tr>\n",
              "      <th>4</th>\n",
              "      <td>Flowers</td>\n",
              "      <td>1</td>\n",
              "    </tr>\n",
              "    <tr>\n",
              "      <th>...</th>\n",
              "      <td>...</td>\n",
              "      <td>...</td>\n",
              "    </tr>\n",
              "    <tr>\n",
              "      <th>191</th>\n",
              "      <td>Fin de Semana</td>\n",
              "      <td>1</td>\n",
              "    </tr>\n",
              "    <tr>\n",
              "      <th>192</th>\n",
              "      <td>Miss You</td>\n",
              "      <td>1</td>\n",
              "    </tr>\n",
              "    <tr>\n",
              "      <th>193</th>\n",
              "      <td>El Gordo Trae El Mando</td>\n",
              "      <td>1</td>\n",
              "    </tr>\n",
              "    <tr>\n",
              "      <th>194</th>\n",
              "      <td>We Found Love</td>\n",
              "      <td>1</td>\n",
              "    </tr>\n",
              "    <tr>\n",
              "      <th>195</th>\n",
              "      <td>Everybody Wants To Rule The World</td>\n",
              "      <td>1</td>\n",
              "    </tr>\n",
              "  </tbody>\n",
              "</table>\n",
              "<p>196 rows × 2 columns</p>\n",
              "</div>\n",
              "      <button class=\"colab-df-convert\" onclick=\"convertToInteractive('df-de1a95b6-0468-41ce-b21d-f37399cf2843')\"\n",
              "              title=\"Convert this dataframe to an interactive table.\"\n",
              "              style=\"display:none;\">\n",
              "        \n",
              "  <svg xmlns=\"http://www.w3.org/2000/svg\" height=\"24px\"viewBox=\"0 0 24 24\"\n",
              "       width=\"24px\">\n",
              "    <path d=\"M0 0h24v24H0V0z\" fill=\"none\"/>\n",
              "    <path d=\"M18.56 5.44l.94 2.06.94-2.06 2.06-.94-2.06-.94-.94-2.06-.94 2.06-2.06.94zm-11 1L8.5 8.5l.94-2.06 2.06-.94-2.06-.94L8.5 2.5l-.94 2.06-2.06.94zm10 10l.94 2.06.94-2.06 2.06-.94-2.06-.94-.94-2.06-.94 2.06-2.06.94z\"/><path d=\"M17.41 7.96l-1.37-1.37c-.4-.4-.92-.59-1.43-.59-.52 0-1.04.2-1.43.59L10.3 9.45l-7.72 7.72c-.78.78-.78 2.05 0 2.83L4 21.41c.39.39.9.59 1.41.59.51 0 1.02-.2 1.41-.59l7.78-7.78 2.81-2.81c.8-.78.8-2.07 0-2.86zM5.41 20L4 18.59l7.72-7.72 1.47 1.35L5.41 20z\"/>\n",
              "  </svg>\n",
              "      </button>\n",
              "      \n",
              "  <style>\n",
              "    .colab-df-container {\n",
              "      display:flex;\n",
              "      flex-wrap:wrap;\n",
              "      gap: 12px;\n",
              "    }\n",
              "\n",
              "    .colab-df-convert {\n",
              "      background-color: #E8F0FE;\n",
              "      border: none;\n",
              "      border-radius: 50%;\n",
              "      cursor: pointer;\n",
              "      display: none;\n",
              "      fill: #1967D2;\n",
              "      height: 32px;\n",
              "      padding: 0 0 0 0;\n",
              "      width: 32px;\n",
              "    }\n",
              "\n",
              "    .colab-df-convert:hover {\n",
              "      background-color: #E2EBFA;\n",
              "      box-shadow: 0px 1px 2px rgba(60, 64, 67, 0.3), 0px 1px 3px 1px rgba(60, 64, 67, 0.15);\n",
              "      fill: #174EA6;\n",
              "    }\n",
              "\n",
              "    [theme=dark] .colab-df-convert {\n",
              "      background-color: #3B4455;\n",
              "      fill: #D2E3FC;\n",
              "    }\n",
              "\n",
              "    [theme=dark] .colab-df-convert:hover {\n",
              "      background-color: #434B5C;\n",
              "      box-shadow: 0px 1px 3px 1px rgba(0, 0, 0, 0.15);\n",
              "      filter: drop-shadow(0px 1px 2px rgba(0, 0, 0, 0.3));\n",
              "      fill: #FFFFFF;\n",
              "    }\n",
              "  </style>\n",
              "\n",
              "      <script>\n",
              "        const buttonEl =\n",
              "          document.querySelector('#df-de1a95b6-0468-41ce-b21d-f37399cf2843 button.colab-df-convert');\n",
              "        buttonEl.style.display =\n",
              "          google.colab.kernel.accessAllowed ? 'block' : 'none';\n",
              "\n",
              "        async function convertToInteractive(key) {\n",
              "          const element = document.querySelector('#df-de1a95b6-0468-41ce-b21d-f37399cf2843');\n",
              "          const dataTable =\n",
              "            await google.colab.kernel.invokeFunction('convertToInteractive',\n",
              "                                                     [key], {});\n",
              "          if (!dataTable) return;\n",
              "\n",
              "          const docLinkHtml = 'Like what you see? Visit the ' +\n",
              "            '<a target=\"_blank\" href=https://colab.research.google.com/notebooks/data_table.ipynb>data table notebook</a>'\n",
              "            + ' to learn more about interactive tables.';\n",
              "          element.innerHTML = '';\n",
              "          dataTable['output_type'] = 'display_data';\n",
              "          await google.colab.output.renderOutput(dataTable, element);\n",
              "          const docLink = document.createElement('div');\n",
              "          docLink.innerHTML = docLinkHtml;\n",
              "          element.appendChild(docLink);\n",
              "        }\n",
              "      </script>\n",
              "    </div>\n",
              "  </div>\n",
              "  "
            ]
          },
          "metadata": {},
          "execution_count": 105
        }
      ]
    },
    {
      "cell_type": "code",
      "source": [
        "title_not1 = list(title_count['Title'][title_count['times'] > 1])"
      ],
      "metadata": {
        "id": "ybDEWQTv-0Pe"
      },
      "execution_count": null,
      "outputs": []
    },
    {
      "cell_type": "code",
      "source": [
        "title_not1"
      ],
      "metadata": {
        "colab": {
          "base_uri": "https://localhost:8080/"
        },
        "id": "KygKe5qYTVm2",
        "outputId": "0d48b6e5-ce63-4c4a-d274-e2cbcb67ef57"
      },
      "execution_count": null,
      "outputs": [
        {
          "output_type": "execute_result",
          "data": {
            "text/plain": [
              "['Die For You', 'Until I Found You', 'Calm Down', 'Sure Thing']"
            ]
          },
          "metadata": {},
          "execution_count": 107
        }
      ]
    },
    {
      "cell_type": "code",
      "source": [
        "clean_splus = spotify_chart[spotify_chart['Title'].isin(title_not1)].sort_values(by = ['Title','Wks'], ascending = [False, True])\n",
        "clean_splus_title = clean_splus[clean_splus['Streams+'].isna()]['Title']"
      ],
      "metadata": {
        "id": "bpmAZ8MfSg4z"
      },
      "execution_count": null,
      "outputs": []
    },
    {
      "cell_type": "code",
      "source": [
        "clean_splus[clean_splus['Title'].isin(clean_splus_title)]"
      ],
      "metadata": {
        "colab": {
          "base_uri": "https://localhost:8080/",
          "height": 112
        },
        "id": "W5ammgH6U0bT",
        "outputId": "2a92d3c5-af14-409a-dca3-2e3d9487ca81"
      },
      "execution_count": null,
      "outputs": [
        {
          "output_type": "execute_result",
          "data": {
            "text/plain": [
              "    Pos   P+       Artist        Title  Wks  Pk  Pk_times   Streams  \\\n",
              "2     3  NEW  The Weeknd   Die For You    1   3       1.0  46213370   \n",
              "13   14   -2  The Weeknd   Die For You   59  12       0.0  22988828   \n",
              "\n",
              "     Streams+      Total  \n",
              "2         NaN   46213370  \n",
              "13  1333396.0  687729855  "
            ],
            "text/html": [
              "\n",
              "  <div id=\"df-2915e221-3e04-4d76-954b-4383b05bd792\">\n",
              "    <div class=\"colab-df-container\">\n",
              "      <div>\n",
              "<style scoped>\n",
              "    .dataframe tbody tr th:only-of-type {\n",
              "        vertical-align: middle;\n",
              "    }\n",
              "\n",
              "    .dataframe tbody tr th {\n",
              "        vertical-align: top;\n",
              "    }\n",
              "\n",
              "    .dataframe thead th {\n",
              "        text-align: right;\n",
              "    }\n",
              "</style>\n",
              "<table border=\"1\" class=\"dataframe\">\n",
              "  <thead>\n",
              "    <tr style=\"text-align: right;\">\n",
              "      <th></th>\n",
              "      <th>Pos</th>\n",
              "      <th>P+</th>\n",
              "      <th>Artist</th>\n",
              "      <th>Title</th>\n",
              "      <th>Wks</th>\n",
              "      <th>Pk</th>\n",
              "      <th>Pk_times</th>\n",
              "      <th>Streams</th>\n",
              "      <th>Streams+</th>\n",
              "      <th>Total</th>\n",
              "    </tr>\n",
              "  </thead>\n",
              "  <tbody>\n",
              "    <tr>\n",
              "      <th>2</th>\n",
              "      <td>3</td>\n",
              "      <td>NEW</td>\n",
              "      <td>The Weeknd</td>\n",
              "      <td>Die For You</td>\n",
              "      <td>1</td>\n",
              "      <td>3</td>\n",
              "      <td>1.0</td>\n",
              "      <td>46213370</td>\n",
              "      <td>NaN</td>\n",
              "      <td>46213370</td>\n",
              "    </tr>\n",
              "    <tr>\n",
              "      <th>13</th>\n",
              "      <td>14</td>\n",
              "      <td>-2</td>\n",
              "      <td>The Weeknd</td>\n",
              "      <td>Die For You</td>\n",
              "      <td>59</td>\n",
              "      <td>12</td>\n",
              "      <td>0.0</td>\n",
              "      <td>22988828</td>\n",
              "      <td>1333396.0</td>\n",
              "      <td>687729855</td>\n",
              "    </tr>\n",
              "  </tbody>\n",
              "</table>\n",
              "</div>\n",
              "      <button class=\"colab-df-convert\" onclick=\"convertToInteractive('df-2915e221-3e04-4d76-954b-4383b05bd792')\"\n",
              "              title=\"Convert this dataframe to an interactive table.\"\n",
              "              style=\"display:none;\">\n",
              "        \n",
              "  <svg xmlns=\"http://www.w3.org/2000/svg\" height=\"24px\"viewBox=\"0 0 24 24\"\n",
              "       width=\"24px\">\n",
              "    <path d=\"M0 0h24v24H0V0z\" fill=\"none\"/>\n",
              "    <path d=\"M18.56 5.44l.94 2.06.94-2.06 2.06-.94-2.06-.94-.94-2.06-.94 2.06-2.06.94zm-11 1L8.5 8.5l.94-2.06 2.06-.94-2.06-.94L8.5 2.5l-.94 2.06-2.06.94zm10 10l.94 2.06.94-2.06 2.06-.94-2.06-.94-.94-2.06-.94 2.06-2.06.94z\"/><path d=\"M17.41 7.96l-1.37-1.37c-.4-.4-.92-.59-1.43-.59-.52 0-1.04.2-1.43.59L10.3 9.45l-7.72 7.72c-.78.78-.78 2.05 0 2.83L4 21.41c.39.39.9.59 1.41.59.51 0 1.02-.2 1.41-.59l7.78-7.78 2.81-2.81c.8-.78.8-2.07 0-2.86zM5.41 20L4 18.59l7.72-7.72 1.47 1.35L5.41 20z\"/>\n",
              "  </svg>\n",
              "      </button>\n",
              "      \n",
              "  <style>\n",
              "    .colab-df-container {\n",
              "      display:flex;\n",
              "      flex-wrap:wrap;\n",
              "      gap: 12px;\n",
              "    }\n",
              "\n",
              "    .colab-df-convert {\n",
              "      background-color: #E8F0FE;\n",
              "      border: none;\n",
              "      border-radius: 50%;\n",
              "      cursor: pointer;\n",
              "      display: none;\n",
              "      fill: #1967D2;\n",
              "      height: 32px;\n",
              "      padding: 0 0 0 0;\n",
              "      width: 32px;\n",
              "    }\n",
              "\n",
              "    .colab-df-convert:hover {\n",
              "      background-color: #E2EBFA;\n",
              "      box-shadow: 0px 1px 2px rgba(60, 64, 67, 0.3), 0px 1px 3px 1px rgba(60, 64, 67, 0.15);\n",
              "      fill: #174EA6;\n",
              "    }\n",
              "\n",
              "    [theme=dark] .colab-df-convert {\n",
              "      background-color: #3B4455;\n",
              "      fill: #D2E3FC;\n",
              "    }\n",
              "\n",
              "    [theme=dark] .colab-df-convert:hover {\n",
              "      background-color: #434B5C;\n",
              "      box-shadow: 0px 1px 3px 1px rgba(0, 0, 0, 0.15);\n",
              "      filter: drop-shadow(0px 1px 2px rgba(0, 0, 0, 0.3));\n",
              "      fill: #FFFFFF;\n",
              "    }\n",
              "  </style>\n",
              "\n",
              "      <script>\n",
              "        const buttonEl =\n",
              "          document.querySelector('#df-2915e221-3e04-4d76-954b-4383b05bd792 button.colab-df-convert');\n",
              "        buttonEl.style.display =\n",
              "          google.colab.kernel.accessAllowed ? 'block' : 'none';\n",
              "\n",
              "        async function convertToInteractive(key) {\n",
              "          const element = document.querySelector('#df-2915e221-3e04-4d76-954b-4383b05bd792');\n",
              "          const dataTable =\n",
              "            await google.colab.kernel.invokeFunction('convertToInteractive',\n",
              "                                                     [key], {});\n",
              "          if (!dataTable) return;\n",
              "\n",
              "          const docLinkHtml = 'Like what you see? Visit the ' +\n",
              "            '<a target=\"_blank\" href=https://colab.research.google.com/notebooks/data_table.ipynb>data table notebook</a>'\n",
              "            + ' to learn more about interactive tables.';\n",
              "          element.innerHTML = '';\n",
              "          dataTable['output_type'] = 'display_data';\n",
              "          await google.colab.output.renderOutput(dataTable, element);\n",
              "          const docLink = document.createElement('div');\n",
              "          docLink.innerHTML = docLinkHtml;\n",
              "          element.appendChild(docLink);\n",
              "        }\n",
              "      </script>\n",
              "    </div>\n",
              "  </div>\n",
              "  "
            ]
          },
          "metadata": {},
          "execution_count": 109
        }
      ]
    },
    {
      "cell_type": "code",
      "source": [
        "#fill missing values in Streams+\n",
        "spotify_chart['Streams+'].fillna(0,inplace = True)\n",
        "spotify_chart.isna().sum()"
      ],
      "metadata": {
        "colab": {
          "base_uri": "https://localhost:8080/"
        },
        "id": "W0NVuSGSVMw7",
        "outputId": "6c4134a9-9ac9-4b79-da8c-8c8409dadb0b"
      },
      "execution_count": null,
      "outputs": [
        {
          "output_type": "execute_result",
          "data": {
            "text/plain": [
              "Pos         0\n",
              "P+          0\n",
              "Artist      0\n",
              "Title       0\n",
              "Wks         0\n",
              "Pk          0\n",
              "Pk_times    0\n",
              "Streams     0\n",
              "Streams+    0\n",
              "Total       0\n",
              "dtype: int64"
            ]
          },
          "metadata": {},
          "execution_count": 110
        }
      ]
    },
    {
      "cell_type": "markdown",
      "source": [
        "Since the missing values in Streams+ are either from the songs that only appear once or the songs appear more than once, but when they were on the chart for the first time, the missing values in Streams can be filled in with 0."
      ],
      "metadata": {
        "id": "dy-sXeD2VeX_"
      }
    },
    {
      "cell_type": "markdown",
      "source": [
        "**Data Processing**"
      ],
      "metadata": {
        "id": "MobEkxpHe5hq"
      }
    },
    {
      "cell_type": "code",
      "source": [
        "data = spotify_chart.copy()"
      ],
      "metadata": {
        "id": "qDIhxd96isPS"
      },
      "execution_count": null,
      "outputs": []
    },
    {
      "cell_type": "code",
      "source": [
        "data.dtypes"
      ],
      "metadata": {
        "colab": {
          "base_uri": "https://localhost:8080/"
        },
        "id": "LGq1OaPYfPa7",
        "outputId": "1313d389-8a88-4756-9f14-53da411626c2"
      },
      "execution_count": null,
      "outputs": [
        {
          "output_type": "execute_result",
          "data": {
            "text/plain": [
              "Pos           int64\n",
              "P+           object\n",
              "Artist       object\n",
              "Title        object\n",
              "Wks           int64\n",
              "Pk            int64\n",
              "Pk_times    float64\n",
              "Streams       int64\n",
              "Streams+    float64\n",
              "Total         int64\n",
              "dtype: object"
            ]
          },
          "metadata": {},
          "execution_count": 112
        }
      ]
    },
    {
      "cell_type": "code",
      "source": [
        "from sklearn.preprocessing import LabelEncoder"
      ],
      "metadata": {
        "id": "fvzE7d2rhHbm"
      },
      "execution_count": null,
      "outputs": []
    },
    {
      "cell_type": "markdown",
      "source": [
        "Label Encoding: P+"
      ],
      "metadata": {
        "id": "ZSioad3jgHBF"
      }
    },
    {
      "cell_type": "code",
      "source": [
        "label_encoder = LabelEncoder()\n",
        "data['P+'] = label_encoder.fit_transform(data['P+'])"
      ],
      "metadata": {
        "id": "rRrVJFNZiaVh"
      },
      "execution_count": null,
      "outputs": []
    },
    {
      "cell_type": "code",
      "source": [
        "data.head(5)"
      ],
      "metadata": {
        "colab": {
          "base_uri": "https://localhost:8080/",
          "height": 206
        },
        "id": "NMMUVJM9kVnL",
        "outputId": "e427b6d1-c149-4b07-a039-64bce1308908"
      },
      "execution_count": null,
      "outputs": [
        {
          "output_type": "execute_result",
          "data": {
            "text/plain": [
              "   Pos  P+           Artist               Title  Wks  Pk  Pk_times   Streams  \\\n",
              "0    1  64     Miley Cyrus              Flowers    7   1       7.0  56744018   \n",
              "1    2  65         KAROL G                  TQG    1   2       1.0  53284451   \n",
              "2    3  65      The Weeknd          Die For You    1   3       1.0  46213370   \n",
              "3    4  40             SZA            Kill Bill   12   1       2.0  45630547   \n",
              "4    5  40  PinkPantheress   Boy's a liar Pt. 2    4   3       1.0  39475419   \n",
              "\n",
              "    Streams+      Total  \n",
              "0 -5019054.0  585390148  \n",
              "1        0.0   53284451  \n",
              "2        0.0   46213370  \n",
              "3  -918530.0  556085332  \n",
              "4   303113.0  123300074  "
            ],
            "text/html": [
              "\n",
              "  <div id=\"df-a8bfe003-7afb-41cd-b282-0d8af9db5c06\">\n",
              "    <div class=\"colab-df-container\">\n",
              "      <div>\n",
              "<style scoped>\n",
              "    .dataframe tbody tr th:only-of-type {\n",
              "        vertical-align: middle;\n",
              "    }\n",
              "\n",
              "    .dataframe tbody tr th {\n",
              "        vertical-align: top;\n",
              "    }\n",
              "\n",
              "    .dataframe thead th {\n",
              "        text-align: right;\n",
              "    }\n",
              "</style>\n",
              "<table border=\"1\" class=\"dataframe\">\n",
              "  <thead>\n",
              "    <tr style=\"text-align: right;\">\n",
              "      <th></th>\n",
              "      <th>Pos</th>\n",
              "      <th>P+</th>\n",
              "      <th>Artist</th>\n",
              "      <th>Title</th>\n",
              "      <th>Wks</th>\n",
              "      <th>Pk</th>\n",
              "      <th>Pk_times</th>\n",
              "      <th>Streams</th>\n",
              "      <th>Streams+</th>\n",
              "      <th>Total</th>\n",
              "    </tr>\n",
              "  </thead>\n",
              "  <tbody>\n",
              "    <tr>\n",
              "      <th>0</th>\n",
              "      <td>1</td>\n",
              "      <td>64</td>\n",
              "      <td>Miley Cyrus</td>\n",
              "      <td>Flowers</td>\n",
              "      <td>7</td>\n",
              "      <td>1</td>\n",
              "      <td>7.0</td>\n",
              "      <td>56744018</td>\n",
              "      <td>-5019054.0</td>\n",
              "      <td>585390148</td>\n",
              "    </tr>\n",
              "    <tr>\n",
              "      <th>1</th>\n",
              "      <td>2</td>\n",
              "      <td>65</td>\n",
              "      <td>KAROL G</td>\n",
              "      <td>TQG</td>\n",
              "      <td>1</td>\n",
              "      <td>2</td>\n",
              "      <td>1.0</td>\n",
              "      <td>53284451</td>\n",
              "      <td>0.0</td>\n",
              "      <td>53284451</td>\n",
              "    </tr>\n",
              "    <tr>\n",
              "      <th>2</th>\n",
              "      <td>3</td>\n",
              "      <td>65</td>\n",
              "      <td>The Weeknd</td>\n",
              "      <td>Die For You</td>\n",
              "      <td>1</td>\n",
              "      <td>3</td>\n",
              "      <td>1.0</td>\n",
              "      <td>46213370</td>\n",
              "      <td>0.0</td>\n",
              "      <td>46213370</td>\n",
              "    </tr>\n",
              "    <tr>\n",
              "      <th>3</th>\n",
              "      <td>4</td>\n",
              "      <td>40</td>\n",
              "      <td>SZA</td>\n",
              "      <td>Kill Bill</td>\n",
              "      <td>12</td>\n",
              "      <td>1</td>\n",
              "      <td>2.0</td>\n",
              "      <td>45630547</td>\n",
              "      <td>-918530.0</td>\n",
              "      <td>556085332</td>\n",
              "    </tr>\n",
              "    <tr>\n",
              "      <th>4</th>\n",
              "      <td>5</td>\n",
              "      <td>40</td>\n",
              "      <td>PinkPantheress</td>\n",
              "      <td>Boy's a liar Pt. 2</td>\n",
              "      <td>4</td>\n",
              "      <td>3</td>\n",
              "      <td>1.0</td>\n",
              "      <td>39475419</td>\n",
              "      <td>303113.0</td>\n",
              "      <td>123300074</td>\n",
              "    </tr>\n",
              "  </tbody>\n",
              "</table>\n",
              "</div>\n",
              "      <button class=\"colab-df-convert\" onclick=\"convertToInteractive('df-a8bfe003-7afb-41cd-b282-0d8af9db5c06')\"\n",
              "              title=\"Convert this dataframe to an interactive table.\"\n",
              "              style=\"display:none;\">\n",
              "        \n",
              "  <svg xmlns=\"http://www.w3.org/2000/svg\" height=\"24px\"viewBox=\"0 0 24 24\"\n",
              "       width=\"24px\">\n",
              "    <path d=\"M0 0h24v24H0V0z\" fill=\"none\"/>\n",
              "    <path d=\"M18.56 5.44l.94 2.06.94-2.06 2.06-.94-2.06-.94-.94-2.06-.94 2.06-2.06.94zm-11 1L8.5 8.5l.94-2.06 2.06-.94-2.06-.94L8.5 2.5l-.94 2.06-2.06.94zm10 10l.94 2.06.94-2.06 2.06-.94-2.06-.94-.94-2.06-.94 2.06-2.06.94z\"/><path d=\"M17.41 7.96l-1.37-1.37c-.4-.4-.92-.59-1.43-.59-.52 0-1.04.2-1.43.59L10.3 9.45l-7.72 7.72c-.78.78-.78 2.05 0 2.83L4 21.41c.39.39.9.59 1.41.59.51 0 1.02-.2 1.41-.59l7.78-7.78 2.81-2.81c.8-.78.8-2.07 0-2.86zM5.41 20L4 18.59l7.72-7.72 1.47 1.35L5.41 20z\"/>\n",
              "  </svg>\n",
              "      </button>\n",
              "      \n",
              "  <style>\n",
              "    .colab-df-container {\n",
              "      display:flex;\n",
              "      flex-wrap:wrap;\n",
              "      gap: 12px;\n",
              "    }\n",
              "\n",
              "    .colab-df-convert {\n",
              "      background-color: #E8F0FE;\n",
              "      border: none;\n",
              "      border-radius: 50%;\n",
              "      cursor: pointer;\n",
              "      display: none;\n",
              "      fill: #1967D2;\n",
              "      height: 32px;\n",
              "      padding: 0 0 0 0;\n",
              "      width: 32px;\n",
              "    }\n",
              "\n",
              "    .colab-df-convert:hover {\n",
              "      background-color: #E2EBFA;\n",
              "      box-shadow: 0px 1px 2px rgba(60, 64, 67, 0.3), 0px 1px 3px 1px rgba(60, 64, 67, 0.15);\n",
              "      fill: #174EA6;\n",
              "    }\n",
              "\n",
              "    [theme=dark] .colab-df-convert {\n",
              "      background-color: #3B4455;\n",
              "      fill: #D2E3FC;\n",
              "    }\n",
              "\n",
              "    [theme=dark] .colab-df-convert:hover {\n",
              "      background-color: #434B5C;\n",
              "      box-shadow: 0px 1px 3px 1px rgba(0, 0, 0, 0.15);\n",
              "      filter: drop-shadow(0px 1px 2px rgba(0, 0, 0, 0.3));\n",
              "      fill: #FFFFFF;\n",
              "    }\n",
              "  </style>\n",
              "\n",
              "      <script>\n",
              "        const buttonEl =\n",
              "          document.querySelector('#df-a8bfe003-7afb-41cd-b282-0d8af9db5c06 button.colab-df-convert');\n",
              "        buttonEl.style.display =\n",
              "          google.colab.kernel.accessAllowed ? 'block' : 'none';\n",
              "\n",
              "        async function convertToInteractive(key) {\n",
              "          const element = document.querySelector('#df-a8bfe003-7afb-41cd-b282-0d8af9db5c06');\n",
              "          const dataTable =\n",
              "            await google.colab.kernel.invokeFunction('convertToInteractive',\n",
              "                                                     [key], {});\n",
              "          if (!dataTable) return;\n",
              "\n",
              "          const docLinkHtml = 'Like what you see? Visit the ' +\n",
              "            '<a target=\"_blank\" href=https://colab.research.google.com/notebooks/data_table.ipynb>data table notebook</a>'\n",
              "            + ' to learn more about interactive tables.';\n",
              "          element.innerHTML = '';\n",
              "          dataTable['output_type'] = 'display_data';\n",
              "          await google.colab.output.renderOutput(dataTable, element);\n",
              "          const docLink = document.createElement('div');\n",
              "          docLink.innerHTML = docLinkHtml;\n",
              "          element.appendChild(docLink);\n",
              "        }\n",
              "      </script>\n",
              "    </div>\n",
              "  </div>\n",
              "  "
            ]
          },
          "metadata": {},
          "execution_count": 115
        }
      ]
    },
    {
      "cell_type": "markdown",
      "source": [
        "**Here are several questions:**\n",
        "\n",
        "**1. Which factor correlates with Total Streams the most?** \n",
        "\n",
        "**2. Using regression model to predict Total Streams.**"
      ],
      "metadata": {
        "id": "KkcCsUElXElI"
      }
    },
    {
      "cell_type": "markdown",
      "source": [
        "**Q1: Which factor correlates the Total Streams the most?**"
      ],
      "metadata": {
        "id": "fMeu0CMUaFmy"
      }
    },
    {
      "cell_type": "code",
      "source": [
        "data.corr()['Total'].sort_values()"
      ],
      "metadata": {
        "colab": {
          "base_uri": "https://localhost:8080/"
        },
        "id": "JyMyjSMDrC1i",
        "outputId": "b51bfd90-538b-415c-fb24-39d384403fc1"
      },
      "execution_count": null,
      "outputs": [
        {
          "output_type": "stream",
          "name": "stderr",
          "text": [
            "<ipython-input-116-a11e4ca000c3>:1: FutureWarning: The default value of numeric_only in DataFrame.corr is deprecated. In a future version, it will default to False. Select only valid columns or specify the value of numeric_only to silence this warning.\n",
            "  data.corr()['Total'].sort_values()\n"
          ]
        },
        {
          "output_type": "execute_result",
          "data": {
            "text/plain": [
              "Pk         -0.466725\n",
              "P+         -0.180584\n",
              "Pos        -0.044908\n",
              "Streams    -0.004923\n",
              "Streams+    0.016980\n",
              "Pk_times    0.616175\n",
              "Wks         0.821732\n",
              "Total       1.000000\n",
              "Name: Total, dtype: float64"
            ]
          },
          "metadata": {},
          "execution_count": 116
        }
      ]
    },
    {
      "cell_type": "markdown",
      "source": [
        "**Q2: Using regression model to predict Total Streams.**"
      ],
      "metadata": {
        "id": "-4Q4Wz0X56B0"
      }
    },
    {
      "cell_type": "code",
      "source": [
        "from sklearn.linear_model import LinearRegression\n",
        "from sklearn.model_selection import train_test_split"
      ],
      "metadata": {
        "id": "UB0W3CSieodA"
      },
      "execution_count": null,
      "outputs": []
    },
    {
      "cell_type": "code",
      "source": [
        "X = data.drop(['Total','Artist','Title'], axis = 1)\n",
        "Y = data['Total']\n",
        "\n",
        "x_train, x_test, y_train, y_test = train_test_split(X, Y, test_size=0.15, random_state=45)\n",
        "\n",
        "lrm = LinearRegression()\n",
        "lrm.fit(x_train,y_train)\n",
        "score = lrm.score(x_train,y_train)\n",
        "print('R^2(all features): {}'.format(score))\n",
        "\n",
        "predict = lrm.predict(x_test)"
      ],
      "metadata": {
        "colab": {
          "base_uri": "https://localhost:8080/"
        },
        "id": "xtG6f5p5aP3I",
        "outputId": "3b47f5e3-9f78-4bc4-fce1-0ad71c2431c1"
      },
      "execution_count": null,
      "outputs": [
        {
          "output_type": "stream",
          "name": "stdout",
          "text": [
            "R^2(all features): 0.8638026456623842\n"
          ]
        }
      ]
    },
    {
      "cell_type": "code",
      "source": [
        "import matplotlib.pyplot as plt\n",
        "\n",
        "plt.scatter(range(len(y_test)),predict-y_test)\n",
        "plt.ylabel('difference')\n",
        "plt.title('differences between real Total and predicted Total(all features)')\n",
        "plt.show()"
      ],
      "metadata": {
        "colab": {
          "base_uri": "https://localhost:8080/",
          "height": 467
        },
        "id": "YpeTSpRr7G1a",
        "outputId": "fcba686a-1fd2-4cb6-c82a-ca8059b4d80c"
      },
      "execution_count": null,
      "outputs": [
        {
          "output_type": "display_data",
          "data": {
            "text/plain": [
              "<Figure size 640x480 with 1 Axes>"
            ],
            "image/png": "[encoded data removed]"
          },
          "metadata": {}
        }
      ]
    },
    {
      "cell_type": "code",
      "source": [
        "X = data.drop(['Total','Artist','Title','Streams'], axis = 1)\n",
        "Y = data['Total']\n",
        "\n",
        "x_train, x_test, y_train, y_test = train_test_split(X, Y, test_size=0.15, random_state=45)\n",
        "\n",
        "lrm = LinearRegression()\n",
        "lrm.fit(x_train,y_train)\n",
        "score = lrm.score(x_train,y_train)\n",
        "print('R^2(all features): {}'.format(score))\n",
        "\n",
        "predict = lrm.predict(x_test)"
      ],
      "metadata": {
        "colab": {
          "base_uri": "https://localhost:8080/"
        },
        "id": "NfDb-3pRZj0t",
        "outputId": "92f312f6-d7a1-4c4c-b09b-5a71a3084b5a"
      },
      "execution_count": null,
      "outputs": [
        {
          "output_type": "stream",
          "name": "stdout",
          "text": [
            "R^2(all features): 0.856715111048577\n"
          ]
        }
      ]
    },
    {
      "cell_type": "code",
      "source": [
        "X = data.drop(['Total','Artist','Title','Streams','Streams+'], axis = 1)\n",
        "Y = data['Total']\n",
        "\n",
        "x_train, x_test, y_train, y_test = train_test_split(X, Y, test_size=0.15, random_state=45)\n",
        "\n",
        "lrm = LinearRegression()\n",
        "lrm.fit(x_train,y_train)\n",
        "score = lrm.score(x_train,y_train)\n",
        "print('R^2(all features): {}'.format(score))\n",
        "\n",
        "predict = lrm.predict(x_test)"
      ],
      "metadata": {
        "colab": {
          "base_uri": "https://localhost:8080/"
        },
        "id": "R4iQAa9waWRl",
        "outputId": "f48281ef-457d-4f61-a531-a59dd711c81c"
      },
      "execution_count": null,
      "outputs": [
        {
          "output_type": "stream",
          "name": "stdout",
          "text": [
            "R^2(all features): 0.8566704034892496\n"
          ]
        }
      ]
    },
    {
      "cell_type": "code",
      "source": [
        "import matplotlib.pyplot as plt\n",
        "\n",
        "plt.scatter(range(len(y_test)),predict-y_test)\n",
        "plt.ylabel('difference')\n",
        "plt.title('differences between real Total and predicted Total(Pos, P+, Wks, Pk, Pk_times)')\n",
        "plt.show()"
      ],
      "metadata": {
        "colab": {
          "base_uri": "https://localhost:8080/",
          "height": 467
        },
        "id": "abfaNryxacjt",
        "outputId": "e564f676-e234-40df-88b5-1907fccd27ef"
      },
      "execution_count": null,
      "outputs": [
        {
          "output_type": "display_data",
          "data": {
            "text/plain": [
              "<Figure size 640x480 with 1 Axes>"
            ],
            "image/png": "[encoded data removed]"
          },
          "metadata": {}
        }
      ]
    },
    {
      "cell_type": "code",
      "source": [
        "X = data[['Wks']]\n",
        "Y = data['Total']\n",
        "\n",
        "x_train, x_test, y_train, y_test = train_test_split(X, Y, test_size=0.15, random_state=45)\n",
        "\n",
        "lrm = LinearRegression()\n",
        "lrm.fit(X,Y)\n",
        "score = lrm.score(X,Y)\n",
        "print('R^2(Wks): {}'.format(score))\n",
        "\n",
        "predict = lrm.predict(x_test)"
      ],
      "metadata": {
        "colab": {
          "base_uri": "https://localhost:8080/"
        },
        "id": "TZxxi6sL4exG",
        "outputId": "598d8404-9a84-41f2-c78e-504773aa6685"
      },
      "execution_count": null,
      "outputs": [
        {
          "output_type": "stream",
          "name": "stdout",
          "text": [
            "R^2(Wks): 0.6752440983920384\n"
          ]
        }
      ]
    },
    {
      "cell_type": "code",
      "source": [
        "import matplotlib.pyplot as plt\n",
        "\n",
        "plt.scatter(range(len(y_test)),predict-y_test)\n",
        "plt.ylabel('difference')\n",
        "plt.title('differences between real Total and predicted Total(Wks)')\n",
        "plt.show()"
      ],
      "metadata": {
        "colab": {
          "base_uri": "https://localhost:8080/",
          "height": 467
        },
        "id": "K_99h0Se8NK9",
        "outputId": "abf5e911-e300-4ac6-9992-4847fa92857e"
      },
      "execution_count": null,
      "outputs": [
        {
          "output_type": "display_data",
          "data": {
            "text/plain": [
              "<Figure size 640x480 with 1 Axes>"
            ],
            "image/png": "[encoded data removed]"
          },
          "metadata": {}
        }
      ]
    }
  ]
}